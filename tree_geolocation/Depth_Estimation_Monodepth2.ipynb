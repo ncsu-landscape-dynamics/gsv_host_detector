{
 "cells": [
  {
   "cell_type": "markdown",
   "id": "f53ca020-9fa1-4432-b301-4bd1cda9e28f",
   "metadata": {},
   "source": [
    "# Depth estimation of detected trees in panoramic imagery using MonoDepth\n",
    "\n",
    "\n"
   ]
  },
  {
   "cell_type": "code",
   "execution_count": 5,
   "id": "15c2d819-a399-4fd3-addd-2c36783d328d",
   "metadata": {},
   "outputs": [],
   "source": [
    "# Guide on Prediction with Yolo Model: https://docs.ultralytics.com/yolov5/tutorials/pytorch_hub_model_loading/#before-you-start\n",
    "\n",
    "# Import Libraries\n",
    "\n",
    "import torch\n",
    "from torchvision import transforms\n",
    "\n",
    "import matplotlib.pyplot as plt\n",
    "%matplotlib inline\n",
    "from matplotlib.image import imread\n",
    "import PIL.Image as pil\n",
    "import os\n",
    "import shutil\n",
    "import numpy as np\n",
    "import pandas as pd\n",
    "import cv2\n",
    "import random\n",
    "import json\n",
    "import sys\n",
    "import math\n",
    "import geopy\n",
    "\n",
    "# Notebook and Vis Params\n",
    "from IPython.core.interactiveshell import InteractiveShell\n",
    "InteractiveShell.ast_node_interactivity = \"all\""
   ]
  },
  {
   "cell_type": "markdown",
   "id": "16200232-efe4-41f4-81be-32557350335a",
   "metadata": {},
   "source": [
    "# Apply Yolo and MonoDepth Estimates to Geolocate Trees"
   ]
  },
  {
   "cell_type": "code",
   "execution_count": null,
   "id": "703193c2-9fa7-4411-8eea-052b25115c07",
   "metadata": {},
   "outputs": [],
   "source": []
  },
  {
   "cell_type": "code",
   "execution_count": 7,
   "id": "fc8accea-8e44-4f4d-943a-5bf4ba181415",
   "metadata": {
    "tags": []
   },
   "outputs": [
    {
     "name": "stderr",
     "output_type": "stream",
     "text": [
      "YOLOv5  v7.0-226-gdd9e338 Python-3.10.13 torch-2.1.2 CUDA:0 (NVIDIA GeForce RTX 4090, 24564MiB)\n",
      "\n",
      "Fusing layers... \n",
      "autoarborist_architecture_YOLOv5x summary: 322 layers, 86173414 parameters, 0 gradients, 203.8 GFLOPs\n",
      "Adding AutoShape... \n"
     ]
    },
    {
     "data": {
      "text/plain": [
       "<All keys matched successfully>"
      ]
     },
     "execution_count": 7,
     "metadata": {},
     "output_type": "execute_result"
    },
    {
     "data": {
      "text/plain": [
       "<All keys matched successfully>"
      ]
     },
     "execution_count": 7,
     "metadata": {},
     "output_type": "execute_result"
    },
    {
     "data": {
      "text/plain": [
       "ResnetEncoder(\n",
       "  (encoder): ResNet(\n",
       "    (conv1): Conv2d(3, 64, kernel_size=(7, 7), stride=(2, 2), padding=(3, 3), bias=False)\n",
       "    (bn1): BatchNorm2d(64, eps=1e-05, momentum=0.1, affine=True, track_running_stats=True)\n",
       "    (relu): ReLU(inplace=True)\n",
       "    (maxpool): MaxPool2d(kernel_size=3, stride=2, padding=1, dilation=1, ceil_mode=False)\n",
       "    (layer1): Sequential(\n",
       "      (0): BasicBlock(\n",
       "        (conv1): Conv2d(64, 64, kernel_size=(3, 3), stride=(1, 1), padding=(1, 1), bias=False)\n",
       "        (bn1): BatchNorm2d(64, eps=1e-05, momentum=0.1, affine=True, track_running_stats=True)\n",
       "        (relu): ReLU(inplace=True)\n",
       "        (conv2): Conv2d(64, 64, kernel_size=(3, 3), stride=(1, 1), padding=(1, 1), bias=False)\n",
       "        (bn2): BatchNorm2d(64, eps=1e-05, momentum=0.1, affine=True, track_running_stats=True)\n",
       "      )\n",
       "      (1): BasicBlock(\n",
       "        (conv1): Conv2d(64, 64, kernel_size=(3, 3), stride=(1, 1), padding=(1, 1), bias=False)\n",
       "        (bn1): BatchNorm2d(64, eps=1e-05, momentum=0.1, affine=True, track_running_stats=True)\n",
       "        (relu): ReLU(inplace=True)\n",
       "        (conv2): Conv2d(64, 64, kernel_size=(3, 3), stride=(1, 1), padding=(1, 1), bias=False)\n",
       "        (bn2): BatchNorm2d(64, eps=1e-05, momentum=0.1, affine=True, track_running_stats=True)\n",
       "      )\n",
       "    )\n",
       "    (layer2): Sequential(\n",
       "      (0): BasicBlock(\n",
       "        (conv1): Conv2d(64, 128, kernel_size=(3, 3), stride=(2, 2), padding=(1, 1), bias=False)\n",
       "        (bn1): BatchNorm2d(128, eps=1e-05, momentum=0.1, affine=True, track_running_stats=True)\n",
       "        (relu): ReLU(inplace=True)\n",
       "        (conv2): Conv2d(128, 128, kernel_size=(3, 3), stride=(1, 1), padding=(1, 1), bias=False)\n",
       "        (bn2): BatchNorm2d(128, eps=1e-05, momentum=0.1, affine=True, track_running_stats=True)\n",
       "        (downsample): Sequential(\n",
       "          (0): Conv2d(64, 128, kernel_size=(1, 1), stride=(2, 2), bias=False)\n",
       "          (1): BatchNorm2d(128, eps=1e-05, momentum=0.1, affine=True, track_running_stats=True)\n",
       "        )\n",
       "      )\n",
       "      (1): BasicBlock(\n",
       "        (conv1): Conv2d(128, 128, kernel_size=(3, 3), stride=(1, 1), padding=(1, 1), bias=False)\n",
       "        (bn1): BatchNorm2d(128, eps=1e-05, momentum=0.1, affine=True, track_running_stats=True)\n",
       "        (relu): ReLU(inplace=True)\n",
       "        (conv2): Conv2d(128, 128, kernel_size=(3, 3), stride=(1, 1), padding=(1, 1), bias=False)\n",
       "        (bn2): BatchNorm2d(128, eps=1e-05, momentum=0.1, affine=True, track_running_stats=True)\n",
       "      )\n",
       "    )\n",
       "    (layer3): Sequential(\n",
       "      (0): BasicBlock(\n",
       "        (conv1): Conv2d(128, 256, kernel_size=(3, 3), stride=(2, 2), padding=(1, 1), bias=False)\n",
       "        (bn1): BatchNorm2d(256, eps=1e-05, momentum=0.1, affine=True, track_running_stats=True)\n",
       "        (relu): ReLU(inplace=True)\n",
       "        (conv2): Conv2d(256, 256, kernel_size=(3, 3), stride=(1, 1), padding=(1, 1), bias=False)\n",
       "        (bn2): BatchNorm2d(256, eps=1e-05, momentum=0.1, affine=True, track_running_stats=True)\n",
       "        (downsample): Sequential(\n",
       "          (0): Conv2d(128, 256, kernel_size=(1, 1), stride=(2, 2), bias=False)\n",
       "          (1): BatchNorm2d(256, eps=1e-05, momentum=0.1, affine=True, track_running_stats=True)\n",
       "        )\n",
       "      )\n",
       "      (1): BasicBlock(\n",
       "        (conv1): Conv2d(256, 256, kernel_size=(3, 3), stride=(1, 1), padding=(1, 1), bias=False)\n",
       "        (bn1): BatchNorm2d(256, eps=1e-05, momentum=0.1, affine=True, track_running_stats=True)\n",
       "        (relu): ReLU(inplace=True)\n",
       "        (conv2): Conv2d(256, 256, kernel_size=(3, 3), stride=(1, 1), padding=(1, 1), bias=False)\n",
       "        (bn2): BatchNorm2d(256, eps=1e-05, momentum=0.1, affine=True, track_running_stats=True)\n",
       "      )\n",
       "    )\n",
       "    (layer4): Sequential(\n",
       "      (0): BasicBlock(\n",
       "        (conv1): Conv2d(256, 512, kernel_size=(3, 3), stride=(2, 2), padding=(1, 1), bias=False)\n",
       "        (bn1): BatchNorm2d(512, eps=1e-05, momentum=0.1, affine=True, track_running_stats=True)\n",
       "        (relu): ReLU(inplace=True)\n",
       "        (conv2): Conv2d(512, 512, kernel_size=(3, 3), stride=(1, 1), padding=(1, 1), bias=False)\n",
       "        (bn2): BatchNorm2d(512, eps=1e-05, momentum=0.1, affine=True, track_running_stats=True)\n",
       "        (downsample): Sequential(\n",
       "          (0): Conv2d(256, 512, kernel_size=(1, 1), stride=(2, 2), bias=False)\n",
       "          (1): BatchNorm2d(512, eps=1e-05, momentum=0.1, affine=True, track_running_stats=True)\n",
       "        )\n",
       "      )\n",
       "      (1): BasicBlock(\n",
       "        (conv1): Conv2d(512, 512, kernel_size=(3, 3), stride=(1, 1), padding=(1, 1), bias=False)\n",
       "        (bn1): BatchNorm2d(512, eps=1e-05, momentum=0.1, affine=True, track_running_stats=True)\n",
       "        (relu): ReLU(inplace=True)\n",
       "        (conv2): Conv2d(512, 512, kernel_size=(3, 3), stride=(1, 1), padding=(1, 1), bias=False)\n",
       "        (bn2): BatchNorm2d(512, eps=1e-05, momentum=0.1, affine=True, track_running_stats=True)\n",
       "      )\n",
       "    )\n",
       "    (avgpool): AdaptiveAvgPool2d(output_size=(1, 1))\n",
       "    (fc): Linear(in_features=512, out_features=1000, bias=True)\n",
       "  )\n",
       ")"
      ]
     },
     "execution_count": 7,
     "metadata": {},
     "output_type": "execute_result"
    },
    {
     "data": {
      "text/plain": [
       "DepthDecoder(\n",
       "  (decoder): ModuleList(\n",
       "    (0-1): 2 x ConvBlock(\n",
       "      (conv): Conv3x3(\n",
       "        (pad): ReflectionPad2d((1, 1, 1, 1))\n",
       "        (conv): Conv2d(512, 256, kernel_size=(3, 3), stride=(1, 1))\n",
       "      )\n",
       "      (nonlin): ELU(alpha=1.0, inplace=True)\n",
       "    )\n",
       "    (2-3): 2 x ConvBlock(\n",
       "      (conv): Conv3x3(\n",
       "        (pad): ReflectionPad2d((1, 1, 1, 1))\n",
       "        (conv): Conv2d(256, 128, kernel_size=(3, 3), stride=(1, 1))\n",
       "      )\n",
       "      (nonlin): ELU(alpha=1.0, inplace=True)\n",
       "    )\n",
       "    (4-5): 2 x ConvBlock(\n",
       "      (conv): Conv3x3(\n",
       "        (pad): ReflectionPad2d((1, 1, 1, 1))\n",
       "        (conv): Conv2d(128, 64, kernel_size=(3, 3), stride=(1, 1))\n",
       "      )\n",
       "      (nonlin): ELU(alpha=1.0, inplace=True)\n",
       "    )\n",
       "    (6): ConvBlock(\n",
       "      (conv): Conv3x3(\n",
       "        (pad): ReflectionPad2d((1, 1, 1, 1))\n",
       "        (conv): Conv2d(64, 32, kernel_size=(3, 3), stride=(1, 1))\n",
       "      )\n",
       "      (nonlin): ELU(alpha=1.0, inplace=True)\n",
       "    )\n",
       "    (7): ConvBlock(\n",
       "      (conv): Conv3x3(\n",
       "        (pad): ReflectionPad2d((1, 1, 1, 1))\n",
       "        (conv): Conv2d(96, 32, kernel_size=(3, 3), stride=(1, 1))\n",
       "      )\n",
       "      (nonlin): ELU(alpha=1.0, inplace=True)\n",
       "    )\n",
       "    (8): ConvBlock(\n",
       "      (conv): Conv3x3(\n",
       "        (pad): ReflectionPad2d((1, 1, 1, 1))\n",
       "        (conv): Conv2d(32, 16, kernel_size=(3, 3), stride=(1, 1))\n",
       "      )\n",
       "      (nonlin): ELU(alpha=1.0, inplace=True)\n",
       "    )\n",
       "    (9): ConvBlock(\n",
       "      (conv): Conv3x3(\n",
       "        (pad): ReflectionPad2d((1, 1, 1, 1))\n",
       "        (conv): Conv2d(16, 16, kernel_size=(3, 3), stride=(1, 1))\n",
       "      )\n",
       "      (nonlin): ELU(alpha=1.0, inplace=True)\n",
       "    )\n",
       "    (10): Conv3x3(\n",
       "      (pad): ReflectionPad2d((1, 1, 1, 1))\n",
       "      (conv): Conv2d(16, 1, kernel_size=(3, 3), stride=(1, 1))\n",
       "    )\n",
       "    (11): Conv3x3(\n",
       "      (pad): ReflectionPad2d((1, 1, 1, 1))\n",
       "      (conv): Conv2d(32, 1, kernel_size=(3, 3), stride=(1, 1))\n",
       "    )\n",
       "    (12): Conv3x3(\n",
       "      (pad): ReflectionPad2d((1, 1, 1, 1))\n",
       "      (conv): Conv2d(64, 1, kernel_size=(3, 3), stride=(1, 1))\n",
       "    )\n",
       "    (13): Conv3x3(\n",
       "      (pad): ReflectionPad2d((1, 1, 1, 1))\n",
       "      (conv): Conv2d(128, 1, kernel_size=(3, 3), stride=(1, 1))\n",
       "    )\n",
       "  )\n",
       "  (sigmoid): Sigmoid()\n",
       ")"
      ]
     },
     "execution_count": 7,
     "metadata": {},
     "output_type": "execute_result"
    },
    {
     "name": "stderr",
     "output_type": "stream",
     "text": [
      "C:\\Users\\talake2\\AppData\\Local\\anaconda3\\envs\\tensorflow_210\\lib\\site-packages\\PIL\\Image.py:3167: DecompressionBombWarning: Image size (134217728 pixels) exceeds limit of 89478485 pixels, could be decompression bomb DOS attack.\n",
      "  warnings.warn(\n"
     ]
    },
    {
     "name": "stdout",
     "output_type": "stream",
     "text": [
      "Processing:  ZnsB5RhFImasUBuO2QlFIA\n"
     ]
    },
    {
     "name": "stderr",
     "output_type": "stream",
     "text": [
      "C:\\Users\\talake2\\AppData\\Local\\anaconda3\\envs\\tensorflow_210\\lib\\site-packages\\PIL\\Image.py:3167: DecompressionBombWarning: Image size (134217728 pixels) exceeds limit of 89478485 pixels, could be decompression bomb DOS attack.\n",
      "  warnings.warn(\n"
     ]
    },
    {
     "name": "stdout",
     "output_type": "stream",
     "text": [
      "Processing:  OcSMnPhlXsZr-y0lBLANhg\n"
     ]
    },
    {
     "name": "stderr",
     "output_type": "stream",
     "text": [
      "C:\\Users\\talake2\\AppData\\Local\\anaconda3\\envs\\tensorflow_210\\lib\\site-packages\\PIL\\Image.py:3167: DecompressionBombWarning: Image size (134217728 pixels) exceeds limit of 89478485 pixels, could be decompression bomb DOS attack.\n",
      "  warnings.warn(\n"
     ]
    },
    {
     "name": "stdout",
     "output_type": "stream",
     "text": [
      "Processing:  GdJI6LH7BY4HFHfcxY0Bpw\n"
     ]
    },
    {
     "name": "stderr",
     "output_type": "stream",
     "text": [
      "C:\\Users\\talake2\\AppData\\Local\\anaconda3\\envs\\tensorflow_210\\lib\\site-packages\\PIL\\Image.py:3167: DecompressionBombWarning: Image size (134217728 pixels) exceeds limit of 89478485 pixels, could be decompression bomb DOS attack.\n",
      "  warnings.warn(\n"
     ]
    },
    {
     "name": "stdout",
     "output_type": "stream",
     "text": [
      "Processing:  JLsJxj3U4ew1PfflntA2LA\n"
     ]
    },
    {
     "name": "stderr",
     "output_type": "stream",
     "text": [
      "C:\\Users\\talake2\\AppData\\Local\\anaconda3\\envs\\tensorflow_210\\lib\\site-packages\\PIL\\Image.py:3167: DecompressionBombWarning: Image size (134217728 pixels) exceeds limit of 89478485 pixels, could be decompression bomb DOS attack.\n",
      "  warnings.warn(\n"
     ]
    },
    {
     "name": "stdout",
     "output_type": "stream",
     "text": [
      "Processing:  KgnVovgvuipNorDeYbBozg\n"
     ]
    },
    {
     "name": "stderr",
     "output_type": "stream",
     "text": [
      "C:\\Users\\talake2\\AppData\\Local\\anaconda3\\envs\\tensorflow_210\\lib\\site-packages\\PIL\\Image.py:3167: DecompressionBombWarning: Image size (134217728 pixels) exceeds limit of 89478485 pixels, could be decompression bomb DOS attack.\n",
      "  warnings.warn(\n"
     ]
    },
    {
     "name": "stdout",
     "output_type": "stream",
     "text": [
      "Processing:  BnaHGXS3kmIUggZysnq8cQ\n"
     ]
    },
    {
     "name": "stderr",
     "output_type": "stream",
     "text": [
      "C:\\Users\\talake2\\AppData\\Local\\anaconda3\\envs\\tensorflow_210\\lib\\site-packages\\PIL\\Image.py:3167: DecompressionBombWarning: Image size (134217728 pixels) exceeds limit of 89478485 pixels, could be decompression bomb DOS attack.\n",
      "  warnings.warn(\n"
     ]
    },
    {
     "name": "stdout",
     "output_type": "stream",
     "text": [
      "Processing:  -Q-1snsVbGdIZ5GcYnyLIg\n"
     ]
    },
    {
     "name": "stderr",
     "output_type": "stream",
     "text": [
      "C:\\Users\\talake2\\AppData\\Local\\anaconda3\\envs\\tensorflow_210\\lib\\site-packages\\PIL\\Image.py:3167: DecompressionBombWarning: Image size (134217728 pixels) exceeds limit of 89478485 pixels, could be decompression bomb DOS attack.\n",
      "  warnings.warn(\n"
     ]
    },
    {
     "name": "stdout",
     "output_type": "stream",
     "text": [
      "Processing:  pRTBBCKtz3jjFaKHa106xQ\n"
     ]
    },
    {
     "name": "stderr",
     "output_type": "stream",
     "text": [
      "C:\\Users\\talake2\\AppData\\Local\\anaconda3\\envs\\tensorflow_210\\lib\\site-packages\\PIL\\Image.py:3167: DecompressionBombWarning: Image size (134217728 pixels) exceeds limit of 89478485 pixels, could be decompression bomb DOS attack.\n",
      "  warnings.warn(\n"
     ]
    },
    {
     "name": "stdout",
     "output_type": "stream",
     "text": [
      "Processing:  v08oZ91eq1e7olLT3tzGQQ\n"
     ]
    },
    {
     "name": "stderr",
     "output_type": "stream",
     "text": [
      "C:\\Users\\talake2\\AppData\\Local\\anaconda3\\envs\\tensorflow_210\\lib\\site-packages\\PIL\\Image.py:3167: DecompressionBombWarning: Image size (134217728 pixels) exceeds limit of 89478485 pixels, could be decompression bomb DOS attack.\n",
      "  warnings.warn(\n"
     ]
    },
    {
     "name": "stdout",
     "output_type": "stream",
     "text": [
      "Processing:  ydU6po35gza8Rc7NfO5z9A\n"
     ]
    },
    {
     "name": "stderr",
     "output_type": "stream",
     "text": [
      "C:\\Users\\talake2\\AppData\\Local\\anaconda3\\envs\\tensorflow_210\\lib\\site-packages\\PIL\\Image.py:3167: DecompressionBombWarning: Image size (134217728 pixels) exceeds limit of 89478485 pixels, could be decompression bomb DOS attack.\n",
      "  warnings.warn(\n"
     ]
    },
    {
     "name": "stdout",
     "output_type": "stream",
     "text": [
      "Processing:  TUt4IKErE5FBoByPZvTytg\n"
     ]
    },
    {
     "name": "stderr",
     "output_type": "stream",
     "text": [
      "C:\\Users\\talake2\\AppData\\Local\\anaconda3\\envs\\tensorflow_210\\lib\\site-packages\\PIL\\Image.py:3167: DecompressionBombWarning: Image size (134217728 pixels) exceeds limit of 89478485 pixels, could be decompression bomb DOS attack.\n",
      "  warnings.warn(\n"
     ]
    },
    {
     "name": "stdout",
     "output_type": "stream",
     "text": [
      "Processing:  b2Ir5pfirza4T3-wawR9Og\n"
     ]
    },
    {
     "name": "stderr",
     "output_type": "stream",
     "text": [
      "C:\\Users\\talake2\\AppData\\Local\\anaconda3\\envs\\tensorflow_210\\lib\\site-packages\\PIL\\Image.py:3167: DecompressionBombWarning: Image size (134217728 pixels) exceeds limit of 89478485 pixels, could be decompression bomb DOS attack.\n",
      "  warnings.warn(\n"
     ]
    },
    {
     "name": "stdout",
     "output_type": "stream",
     "text": [
      "Processing:  QwWqEM18gOGU3O_akOkSpw\n"
     ]
    },
    {
     "name": "stderr",
     "output_type": "stream",
     "text": [
      "C:\\Users\\talake2\\AppData\\Local\\anaconda3\\envs\\tensorflow_210\\lib\\site-packages\\PIL\\Image.py:3167: DecompressionBombWarning: Image size (134217728 pixels) exceeds limit of 89478485 pixels, could be decompression bomb DOS attack.\n",
      "  warnings.warn(\n"
     ]
    },
    {
     "name": "stdout",
     "output_type": "stream",
     "text": [
      "Processing:  KxmSypwTUb-xUoVmeMMFvA\n"
     ]
    },
    {
     "name": "stderr",
     "output_type": "stream",
     "text": [
      "C:\\Users\\talake2\\AppData\\Local\\anaconda3\\envs\\tensorflow_210\\lib\\site-packages\\PIL\\Image.py:3167: DecompressionBombWarning: Image size (134217728 pixels) exceeds limit of 89478485 pixels, could be decompression bomb DOS attack.\n",
      "  warnings.warn(\n"
     ]
    },
    {
     "name": "stdout",
     "output_type": "stream",
     "text": [
      "Processing:  ynC09ZHYd11TM15F43TZww\n"
     ]
    },
    {
     "name": "stderr",
     "output_type": "stream",
     "text": [
      "C:\\Users\\talake2\\AppData\\Local\\anaconda3\\envs\\tensorflow_210\\lib\\site-packages\\PIL\\Image.py:3167: DecompressionBombWarning: Image size (134217728 pixels) exceeds limit of 89478485 pixels, could be decompression bomb DOS attack.\n",
      "  warnings.warn(\n"
     ]
    },
    {
     "name": "stdout",
     "output_type": "stream",
     "text": [
      "Processing:  CQD2jN_MqIV7yAf9FeQZig\n"
     ]
    },
    {
     "name": "stderr",
     "output_type": "stream",
     "text": [
      "C:\\Users\\talake2\\AppData\\Local\\anaconda3\\envs\\tensorflow_210\\lib\\site-packages\\PIL\\Image.py:3167: DecompressionBombWarning: Image size (134217728 pixels) exceeds limit of 89478485 pixels, could be decompression bomb DOS attack.\n",
      "  warnings.warn(\n"
     ]
    },
    {
     "name": "stdout",
     "output_type": "stream",
     "text": [
      "Processing:  QBZoFhxz06M4am6LPhvGQg\n"
     ]
    },
    {
     "name": "stderr",
     "output_type": "stream",
     "text": [
      "C:\\Users\\talake2\\AppData\\Local\\anaconda3\\envs\\tensorflow_210\\lib\\site-packages\\PIL\\Image.py:3167: DecompressionBombWarning: Image size (134217728 pixels) exceeds limit of 89478485 pixels, could be decompression bomb DOS attack.\n",
      "  warnings.warn(\n"
     ]
    },
    {
     "name": "stdout",
     "output_type": "stream",
     "text": [
      "Processing:  _qrB4nYEew5Fdn83eXGI-Q\n"
     ]
    },
    {
     "name": "stderr",
     "output_type": "stream",
     "text": [
      "C:\\Users\\talake2\\AppData\\Local\\anaconda3\\envs\\tensorflow_210\\lib\\site-packages\\PIL\\Image.py:3167: DecompressionBombWarning: Image size (134217728 pixels) exceeds limit of 89478485 pixels, could be decompression bomb DOS attack.\n",
      "  warnings.warn(\n"
     ]
    },
    {
     "name": "stdout",
     "output_type": "stream",
     "text": [
      "Processing:  o7IRqLh-Rw6OjChYrkBjeg\n"
     ]
    },
    {
     "name": "stderr",
     "output_type": "stream",
     "text": [
      "C:\\Users\\talake2\\AppData\\Local\\anaconda3\\envs\\tensorflow_210\\lib\\site-packages\\PIL\\Image.py:3167: DecompressionBombWarning: Image size (134217728 pixels) exceeds limit of 89478485 pixels, could be decompression bomb DOS attack.\n",
      "  warnings.warn(\n"
     ]
    }
   ],
   "source": [
    "import os\n",
    "import pandas as pd\n",
    "import json\n",
    "import torch\n",
    "import sys\n",
    "from skimage.io import imread\n",
    "from PIL import Image as pil\n",
    "from torchvision import transforms\n",
    "import numpy as np\n",
    "from math import asin, atan2, cos, degrees, radians, sin\n",
    "import matplotlib.pyplot as plt\n",
    "%matplotlib inline\n",
    "from IPython.core.interactiveshell import InteractiveShell\n",
    "InteractiveShell.ast_node_interactivity = \"all\"\n",
    "\n",
    "# Make sure the path to the monodepth2 repository is correct\n",
    "sys.path.insert(1, 'C:/users/talake2/Desktop/')\n",
    "sys.path.insert(1, 'C:/users/talake2/Desktop/monodepth2/')\n",
    "\n",
    "# Import necessary modules from monodepth2\n",
    "from monodepth2 import networks\n",
    "from monodepth2.utils import download_model_if_doesnt_exist\n",
    "from monodepth2 import layers\n",
    "\n",
    "##### LOAD HELPER FUNCTIONS #####\n",
    "\n",
    "def calculate_rotation(row, img_width, pano_rotation_north):\n",
    "    \"\"\"\n",
    "    Calculate the angle of rotation of a tree in the panoramic image, based on the \n",
    "    vertical center of the bounding box given the 360-degree image.\n",
    "    \"\"\"\n",
    "    # Extract vertical center of the tree bounding box\n",
    "    tree_center_x = (row['xmin'] + row['xmax']) / 2\n",
    "\n",
    "    # Calculate the angle relative to the north\n",
    "    px_per_degree = (img_width/360) # eq. 45.5111\n",
    "    \n",
    "    tree_angle = tree_center_x / px_per_degree\n",
    "\n",
    "    # Adjust the angle based on the north rotation value\n",
    "    adjusted_angle = (tree_angle - pano_rotation_north) % 360\n",
    "\n",
    "    return adjusted_angle\n",
    "\n",
    "def crop_image(img, xmin, ymin, xmax, ymax):\n",
    "    \"\"\"\n",
    "    Crop the input image based on bounding box coordinates.\n",
    "\n",
    "    Parameters:\n",
    "    - img: Input image (numpy array).\n",
    "    - xmin, ymin, xmax, ymax: Bounding box coordinates.\n",
    "\n",
    "    Returns:\n",
    "    - Cropped image.\n",
    "    \"\"\"\n",
    "    cropped_img = img[ymin:ymax, xmin:xmax, :]\n",
    "    return cropped_img\n",
    "\n",
    "def get_point_at_distance(lat1, lon1, d, bearing, R=6371):\n",
    "    \"\"\"\n",
    "    lat: initial latitude, in degrees\n",
    "    lon: initial longitude, in degrees\n",
    "    d: target distance from initial\n",
    "    bearing: (true) heading in degrees\n",
    "    R: optional radius of sphere, defaults to mean radius of earth\n",
    "\n",
    "    Returns new lat/lon coordinate {d}km from initial, in degrees\n",
    "    Source: https://stackoverflow.com/questions/7222382/get-lat-long-given-current-point-distance-and-bearing\n",
    "    \"\"\"\n",
    "    lat1 = radians(lat1)\n",
    "    lon1 = radians(lon1)\n",
    "    a = radians(bearing)\n",
    "    d = d/1000 # Convert from Km to meters\n",
    "    lat2 = asin(sin(lat1) * cos(d/R) + cos(lat1) * sin(d/R) * cos(a))\n",
    "    lon2 = lon1 + atan2(\n",
    "        sin(a) * sin(d/R) * cos(lat1),\n",
    "        cos(d/R) - sin(lat1) * sin(lat2)\n",
    "    )\n",
    "    return (degrees(lat2), degrees(lon2),)\n",
    "\n",
    "def disp_to_depth(disp, min_depth, max_depth):\n",
    "    \"\"\"Convert network's sigmoid output into depth prediction\n",
    "    The formula for this conversion is given in the 'additional considerations'\n",
    "    section of the paper.\n",
    "    \"\"\"\n",
    "    min_disp = 1 / max_depth\n",
    "    max_disp = 1 / min_depth\n",
    "    scaled_disp = min_disp + (max_disp - min_disp) * disp\n",
    "    depth = 1 / scaled_disp\n",
    "    return scaled_disp, depth\n",
    "\n",
    "\n",
    "\n",
    "# Define the pandas dataframe to old trees information\n",
    "trees_df = pd.DataFrame(columns=[\"pano_ID\", \"pano_rotation\", \"pano_lat\", \"pano_lon\",\n",
    "                                 \"tree_id\", \"tree_rotation_value\", \"tree_depth\",\n",
    "                                 \"tree_lat\", \"tree_lon\"])\n",
    "\n",
    "img_folder = r'C:\\Users\\talake2\\Desktop\\boulder_pano_testing' # Define img_folder path\n",
    "\n",
    "##### LOAD YOLO Model #####\n",
    "\n",
    "# Load a pretrained YOLO model that detects trees\n",
    "model1_name = 'yolov5x-oct2323-autoarborist-25epochs'\n",
    "model1_path = f'C:/Users/talake2/Desktop/auto_arborist_cvpr2022_v015/yolov5/runs/train/{model1_name}/weights/last.pt'\n",
    "tree_model = torch.hub.load(r'C:/Users/talake2/Desktop/auto_arborist_cvpr2022_v015/yolov5', 'custom', path=model1_path, source='local')\n",
    "\n",
    "##### LOAD MONODEPTH2 Model #####\n",
    "\n",
    "STEREO_SCALE_FACTOR = 1.5\n",
    "# https://github.com/nianticlabs/monodepth2/blob/master/evaluate_depth.py\n",
    "# Models which were trained with stereo supervision were trained with a nominal\n",
    "# baseline of 0.1 units. The KITTI rig has a baseline of 54cm. Therefore,\n",
    "# to convert our stereo predictions to real-world scale we multiply our depths by 5.4.\n",
    "\n",
    "# Load a pretrained MonoDepth model that estimates disparity/depth\n",
    "encoder_path = \"C:/users/talake2/Desktop/monodepth2/models/mono+stereo_1024x320/encoder.pth\"\n",
    "depth_decoder_path = \"C:/users/talake2/Desktop/monodepth2/models/mono+stereo_1024x320/depth.pth\"\n",
    "\n",
    "# loading pretrained MonoDepth2 model\n",
    "encoder = networks.ResnetEncoder(18, False)\n",
    "depth_decoder = networks.DepthDecoder(num_ch_enc=encoder.num_ch_enc, scales=range(4))\n",
    "\n",
    "loaded_dict_enc = torch.load(encoder_path, map_location='cpu')\n",
    "filtered_dict_enc = {k: v for k, v in loaded_dict_enc.items() if k in encoder.state_dict()}\n",
    "encoder.load_state_dict(filtered_dict_enc)\n",
    "\n",
    "loaded_dict = torch.load(depth_decoder_path, map_location='cpu')\n",
    "depth_decoder.load_state_dict(loaded_dict)\n",
    "\n",
    "encoder.eval()\n",
    "depth_decoder.eval()\n",
    "\n",
    "\n",
    "##### PERFORM GEOLOCATION #####\n",
    "\n",
    "# Iterate over each image in the directory.\n",
    "for img_name in os.listdir(img_folder):\n",
    "    # Read in directory of panoramic images, and metadata.json files\n",
    "    if img_name.endswith('.jpg'): \n",
    "        img_path = os.path.join(img_folder, img_name)\n",
    "        json_path = img_path.replace('.jpg', '.metadata.json')\n",
    "\n",
    "        with open(json_path, 'r') as json_file:\n",
    "            img_metadata = json.load(json_file)\n",
    "\n",
    "        # Get metadata for panorama print(img_metadata)\n",
    "        pano_id = img_metadata['panoId']\n",
    "        pano_rotation_value = img_metadata['rotation'] # North\n",
    "        pano_lat = img_metadata['lat']\n",
    "        pano_lon = img_metadata['lng']\n",
    "        \n",
    "        print(f'Processing: ', pano_id)\n",
    "\n",
    "        # Read panoramic image and use YOLO model to detect trees\n",
    "        img = imread(img_path)\n",
    "        model_results = tree_model(img) # Run YOLO Inference\n",
    "        model_results_df = model_results.pandas().xyxy[0] # Store YOLO results\n",
    "       \n",
    "        # Estimate depth in panoramic image with MonoDepth2\n",
    "        input_image = pil.open(img_path).convert('RGB')\n",
    "        original_width, original_height = input_image.size\n",
    "        feed_height = loaded_dict_enc['height']\n",
    "        feed_width = loaded_dict_enc['width']\n",
    "        input_image_resized = input_image.resize((feed_width, feed_height), pil.LANCZOS)\n",
    "\n",
    "        input_image_pytorch = transforms.ToTensor()(input_image_resized).unsqueeze(0)\n",
    "\n",
    "        # Run MonoDepth2 to estimate disparity \n",
    "        with torch.no_grad():\n",
    "            features = encoder(input_image_pytorch)\n",
    "            outputs = depth_decoder(features)\n",
    "\n",
    "        # Convert disparity to depth (meters) from MonoDepth2\n",
    "        disp = outputs[(\"disp\", 0)]\n",
    "        disp_resized = torch.nn.functional.interpolate(disp, (original_height, original_width), mode=\"bilinear\", align_corners=False)\n",
    "        scaled_disp, depth = disp_to_depth(disp_resized, 0.1, 100)\n",
    "\n",
    "        # Multiply disparity by scaling factor to output depth (meters)\n",
    "        # See: https://github.com/nianticlabs/monodepth2/issues/295\n",
    "        metric_depth = STEREO_SCALE_FACTOR * depth.squeeze().cpu().numpy()\n",
    "        metric_depth_resized = metric_depth[:, :, np.newaxis] # Expand dim to: 8192, 16384, 1\n",
    "\n",
    "        # Geolocate each detected tree\n",
    "        for index, row in model_results_df.iterrows():\n",
    "            \n",
    "            # Get index and rotation (0-360 degrees) for detected tree in the panoramic image\n",
    "            tree_id = index\n",
    "            tree_rotation_value = calculate_rotation(row, original_width, pano_rotation_value)\n",
    "\n",
    "            # Get bounding box for detected tree in the panoramic image\n",
    "            xmin, ymin, xmax, ymax = (\n",
    "                int(row['xmin']),\n",
    "                int(row['ymin']),\n",
    "                int(row['xmax']),\n",
    "                int(row['ymax'])\n",
    "            )\n",
    "                        \n",
    "            # Crop the depth map to the tree detected in the panoramic image\n",
    "            cropped_depth = crop_image(metric_depth_resized, xmin, ymin, xmax, ymax)\n",
    "\n",
    "            # Estimate depth at the mid-point of the detected tree bounding box\n",
    "            tree_depth = cropped_depth[cropped_depth.shape[0] // 2, cropped_depth.shape[1] // 2].item()\n",
    "            \n",
    "            # Following Lumnitz et al., 2021. Only use estimated tree depth < 15 meters. \n",
    "            if tree_depth < 15:\n",
    "\n",
    "                # Geolocate tree given pano origin, distance, and bearing\n",
    "                tree_lat, tree_lon = get_point_at_distance(pano_lat, pano_lon, tree_depth, tree_rotation_value)\n",
    "\n",
    "                # Create a temporary DataFrame for the new row\n",
    "                temp_df = pd.DataFrame([[pano_id, pano_rotation_value, pano_lat, pano_lon, tree_id, \n",
    "                                         tree_rotation_value, tree_depth, tree_lat, tree_lon]], \n",
    "                                        columns=trees_df.columns)\n",
    "\n",
    "                # Append the row to the DataFrame\n",
    "                trees_df = pd.concat([trees_df, temp_df], ignore_index=True)\n",
    "            \n"
   ]
  },
  {
   "cell_type": "markdown",
   "id": "48022f2e-96f6-40b6-ac20-d08008df4644",
   "metadata": {
    "tags": []
   },
   "source": [
    "# Visualize Predicted Tree Locations and Ground Truth"
   ]
  },
  {
   "cell_type": "code",
   "execution_count": 3,
   "id": "0a274d59-3205-49ce-88ee-fea3efcbc835",
   "metadata": {
    "tags": []
   },
   "outputs": [
    {
     "data": {
      "text/html": [
       "<div>\n",
       "<style scoped>\n",
       "    .dataframe tbody tr th:only-of-type {\n",
       "        vertical-align: middle;\n",
       "    }\n",
       "\n",
       "    .dataframe tbody tr th {\n",
       "        vertical-align: top;\n",
       "    }\n",
       "\n",
       "    .dataframe thead th {\n",
       "        text-align: right;\n",
       "    }\n",
       "</style>\n",
       "<table border=\"1\" class=\"dataframe\">\n",
       "  <thead>\n",
       "    <tr style=\"text-align: right;\">\n",
       "      <th></th>\n",
       "      <th>pano_ID</th>\n",
       "      <th>pano_rotation</th>\n",
       "      <th>pano_lat</th>\n",
       "      <th>pano_lon</th>\n",
       "      <th>tree_id</th>\n",
       "      <th>tree_rotation_value</th>\n",
       "      <th>tree_depth</th>\n",
       "      <th>tree_lat</th>\n",
       "      <th>tree_lon</th>\n",
       "    </tr>\n",
       "  </thead>\n",
       "  <tbody>\n",
       "    <tr>\n",
       "      <th>0</th>\n",
       "      <td>ZnsB5RhFImasUBuO2QlFIA</td>\n",
       "      <td>311.568268</td>\n",
       "      <td>40.035702</td>\n",
       "      <td>-105.226304</td>\n",
       "      <td>0</td>\n",
       "      <td>140.522176</td>\n",
       "      <td>8.666491</td>\n",
       "      <td>40.035642</td>\n",
       "      <td>-105.226239</td>\n",
       "    </tr>\n",
       "    <tr>\n",
       "      <th>1</th>\n",
       "      <td>ZnsB5RhFImasUBuO2QlFIA</td>\n",
       "      <td>311.568268</td>\n",
       "      <td>40.035702</td>\n",
       "      <td>-105.226304</td>\n",
       "      <td>1</td>\n",
       "      <td>88.718154</td>\n",
       "      <td>12.137379</td>\n",
       "      <td>40.035705</td>\n",
       "      <td>-105.226161</td>\n",
       "    </tr>\n",
       "    <tr>\n",
       "      <th>2</th>\n",
       "      <td>ZnsB5RhFImasUBuO2QlFIA</td>\n",
       "      <td>311.568268</td>\n",
       "      <td>40.035702</td>\n",
       "      <td>-105.226304</td>\n",
       "      <td>4</td>\n",
       "      <td>330.739939</td>\n",
       "      <td>8.287737</td>\n",
       "      <td>40.035767</td>\n",
       "      <td>-105.226351</td>\n",
       "    </tr>\n",
       "    <tr>\n",
       "      <th>3</th>\n",
       "      <td>ZnsB5RhFImasUBuO2QlFIA</td>\n",
       "      <td>311.568268</td>\n",
       "      <td>40.035702</td>\n",
       "      <td>-105.226304</td>\n",
       "      <td>6</td>\n",
       "      <td>112.738428</td>\n",
       "      <td>14.448427</td>\n",
       "      <td>40.035652</td>\n",
       "      <td>-105.226147</td>\n",
       "    </tr>\n",
       "    <tr>\n",
       "      <th>4</th>\n",
       "      <td>ZnsB5RhFImasUBuO2QlFIA</td>\n",
       "      <td>311.568268</td>\n",
       "      <td>40.035702</td>\n",
       "      <td>-105.226304</td>\n",
       "      <td>9</td>\n",
       "      <td>15.904380</td>\n",
       "      <td>10.985666</td>\n",
       "      <td>40.035797</td>\n",
       "      <td>-105.226269</td>\n",
       "    </tr>\n",
       "    <tr>\n",
       "      <th>...</th>\n",
       "      <td>...</td>\n",
       "      <td>...</td>\n",
       "      <td>...</td>\n",
       "      <td>...</td>\n",
       "      <td>...</td>\n",
       "      <td>...</td>\n",
       "      <td>...</td>\n",
       "      <td>...</td>\n",
       "      <td>...</td>\n",
       "    </tr>\n",
       "    <tr>\n",
       "      <th>76</th>\n",
       "      <td>o7IRqLh-Rw6OjChYrkBjeg</td>\n",
       "      <td>311.227524</td>\n",
       "      <td>40.035885</td>\n",
       "      <td>-105.226036</td>\n",
       "      <td>1</td>\n",
       "      <td>325.566587</td>\n",
       "      <td>14.947977</td>\n",
       "      <td>40.035996</td>\n",
       "      <td>-105.226135</td>\n",
       "    </tr>\n",
       "    <tr>\n",
       "      <th>77</th>\n",
       "      <td>o7IRqLh-Rw6OjChYrkBjeg</td>\n",
       "      <td>311.227524</td>\n",
       "      <td>40.035885</td>\n",
       "      <td>-105.226036</td>\n",
       "      <td>2</td>\n",
       "      <td>150.073452</td>\n",
       "      <td>8.742475</td>\n",
       "      <td>40.035817</td>\n",
       "      <td>-105.225985</td>\n",
       "    </tr>\n",
       "    <tr>\n",
       "      <th>78</th>\n",
       "      <td>o7IRqLh-Rw6OjChYrkBjeg</td>\n",
       "      <td>311.227524</td>\n",
       "      <td>40.035885</td>\n",
       "      <td>-105.226036</td>\n",
       "      <td>4</td>\n",
       "      <td>14.477484</td>\n",
       "      <td>9.262338</td>\n",
       "      <td>40.035966</td>\n",
       "      <td>-105.226009</td>\n",
       "    </tr>\n",
       "    <tr>\n",
       "      <th>79</th>\n",
       "      <td>o7IRqLh-Rw6OjChYrkBjeg</td>\n",
       "      <td>311.227524</td>\n",
       "      <td>40.035885</td>\n",
       "      <td>-105.226036</td>\n",
       "      <td>6</td>\n",
       "      <td>255.048082</td>\n",
       "      <td>13.969587</td>\n",
       "      <td>40.035853</td>\n",
       "      <td>-105.226195</td>\n",
       "    </tr>\n",
       "    <tr>\n",
       "      <th>80</th>\n",
       "      <td>o7IRqLh-Rw6OjChYrkBjeg</td>\n",
       "      <td>311.227524</td>\n",
       "      <td>40.035885</td>\n",
       "      <td>-105.226036</td>\n",
       "      <td>8</td>\n",
       "      <td>251.751615</td>\n",
       "      <td>13.599125</td>\n",
       "      <td>40.035847</td>\n",
       "      <td>-105.226188</td>\n",
       "    </tr>\n",
       "  </tbody>\n",
       "</table>\n",
       "<p>81 rows × 9 columns</p>\n",
       "</div>"
      ],
      "text/plain": [
       "                   pano_ID  pano_rotation   pano_lat    pano_lon tree_id  \\\n",
       "0   ZnsB5RhFImasUBuO2QlFIA     311.568268  40.035702 -105.226304       0   \n",
       "1   ZnsB5RhFImasUBuO2QlFIA     311.568268  40.035702 -105.226304       1   \n",
       "2   ZnsB5RhFImasUBuO2QlFIA     311.568268  40.035702 -105.226304       4   \n",
       "3   ZnsB5RhFImasUBuO2QlFIA     311.568268  40.035702 -105.226304       6   \n",
       "4   ZnsB5RhFImasUBuO2QlFIA     311.568268  40.035702 -105.226304       9   \n",
       "..                     ...            ...        ...         ...     ...   \n",
       "76  o7IRqLh-Rw6OjChYrkBjeg     311.227524  40.035885 -105.226036       1   \n",
       "77  o7IRqLh-Rw6OjChYrkBjeg     311.227524  40.035885 -105.226036       2   \n",
       "78  o7IRqLh-Rw6OjChYrkBjeg     311.227524  40.035885 -105.226036       4   \n",
       "79  o7IRqLh-Rw6OjChYrkBjeg     311.227524  40.035885 -105.226036       6   \n",
       "80  o7IRqLh-Rw6OjChYrkBjeg     311.227524  40.035885 -105.226036       8   \n",
       "\n",
       "    tree_rotation_value  tree_depth   tree_lat    tree_lon  \n",
       "0            140.522176    8.666491  40.035642 -105.226239  \n",
       "1             88.718154   12.137379  40.035705 -105.226161  \n",
       "2            330.739939    8.287737  40.035767 -105.226351  \n",
       "3            112.738428   14.448427  40.035652 -105.226147  \n",
       "4             15.904380   10.985666  40.035797 -105.226269  \n",
       "..                  ...         ...        ...         ...  \n",
       "76           325.566587   14.947977  40.035996 -105.226135  \n",
       "77           150.073452    8.742475  40.035817 -105.225985  \n",
       "78            14.477484    9.262338  40.035966 -105.226009  \n",
       "79           255.048082   13.969587  40.035853 -105.226195  \n",
       "80           251.751615   13.599125  40.035847 -105.226188  \n",
       "\n",
       "[81 rows x 9 columns]"
      ]
     },
     "execution_count": 3,
     "metadata": {},
     "output_type": "execute_result"
    }
   ],
   "source": [
    "trees_df"
   ]
  },
  {
   "cell_type": "code",
   "execution_count": 8,
   "id": "a3b656ce-8ea8-4034-a8f2-5ca7df165a17",
   "metadata": {
    "tags": []
   },
   "outputs": [
    {
     "data": {
      "text/plain": [
       "<matplotlib.collections.PathCollection at 0x1ef000d02b0>"
      ]
     },
     "execution_count": 8,
     "metadata": {},
     "output_type": "execute_result"
    },
    {
     "data": {
      "text/plain": [
       "<matplotlib.collections.PathCollection at 0x1ef000fd420>"
      ]
     },
     "execution_count": 8,
     "metadata": {},
     "output_type": "execute_result"
    },
    {
     "data": {
      "text/plain": [
       "<matplotlib.collections.PathCollection at 0x1ef000fece0>"
      ]
     },
     "execution_count": 8,
     "metadata": {},
     "output_type": "execute_result"
    },
    {
     "data": {
      "text/plain": [
       "Text(0.5, 0, 'Longitude')"
      ]
     },
     "execution_count": 8,
     "metadata": {},
     "output_type": "execute_result"
    },
    {
     "data": {
      "text/plain": [
       "Text(0, 0.5, 'Latitude')"
      ]
     },
     "execution_count": 8,
     "metadata": {},
     "output_type": "execute_result"
    },
    {
     "data": {
      "text/plain": [
       "Text(0.5, 1.0, 'Predicted Tree Coordinates with Panoramic Locations')"
      ]
     },
     "execution_count": 8,
     "metadata": {},
     "output_type": "execute_result"
    },
    {
     "data": {
      "text/plain": [
       "<matplotlib.legend.Legend at 0x1ef000fe5f0>"
      ]
     },
     "execution_count": 8,
     "metadata": {},
     "output_type": "execute_result"
    },
    {
     "data": {
      "image/png": "[encoded data removed]",
      "text/plain": [
       "<Figure size 1000x800 with 1 Axes>"
      ]
     },
     "metadata": {},
     "output_type": "display_data"
    }
   ],
   "source": [
    "import matplotlib.pyplot as plt\n",
    "import cartopy.crs as ccrs\n",
    "from cartopy.io import img_tiles\n",
    "%matplotlib inline\n",
    "\n",
    "\n",
    "# Define the bounding box for tree predictions\n",
    "bbox = [\n",
    "    trees_df['tree_lon'].min() - 0.0001,\n",
    "    trees_df['tree_lon'].max() + 0.0001,\n",
    "    trees_df['tree_lat'].min() - 0.0001,\n",
    "    trees_df['tree_lat'].max() + 0.0001\n",
    "]\n",
    "\n",
    "# Read in ground truth .csv file containing 'latitude' and 'longitude' columns information on tree locations\n",
    "tree_inventory_df = pd.read_csv(r'C:\\Users\\talake2\\Desktop\\auto_arborist_cvpr2022_v015\\auto_arborist_tfrecords_data\\auto_arborist_tfrecords_csv\\tfrecords_locs_all.csv')\n",
    "\n",
    "# Crop the .csv file records to the bounding box where trees are predicted\n",
    "cropped_tree_inventory = tree_inventory_df[\n",
    "    (tree_inventory_df['Longitude'] >= bbox[0]) &\n",
    "    (tree_inventory_df['Longitude'] <= bbox[1]) &\n",
    "    (tree_inventory_df['Latitude'] >= bbox[2]) &\n",
    "    (tree_inventory_df['Latitude'] <= bbox[3])\n",
    "]\n",
    "\n",
    "# Plotting\n",
    "fig, ax = plt.subplots(figsize=(10, 8), subplot_kw={'projection': ccrs.PlateCarree()})\n",
    "\n",
    "# Use Google Maps satellite imagery as the basemap\n",
    "google_tiles = img_tiles.GoogleTiles()\n",
    "ax.add_image(google_tiles, 14, interpolation='spline36')\n",
    "\n",
    "# Plotting tree coordinates\n",
    "ax.scatter(trees_df['tree_lon'], trees_df['tree_lat'], color='red', marker='o', label='Trees')\n",
    "\n",
    "# Plotting panoramic location\n",
    "ax.scatter(trees_df['pano_lon'], trees_df['pano_lat'], color='blue', marker='x', label='Panoramic Location')\n",
    "\n",
    "# Plotting cropped tree inventory locations as transparent green triangles\n",
    "ax.scatter(cropped_tree_inventory['Longitude'], cropped_tree_inventory['Latitude'],\n",
    "           color='green', marker='^', alpha=0.5, label='Tree Inventory')\n",
    "\n",
    "# Set the extent for zooming in\n",
    "ax.set_extent(bbox, crs=ccrs.PlateCarree())\n",
    "\n",
    "# Adding labels and legend\n",
    "ax.set_xlabel('Longitude')\n",
    "ax.set_ylabel('Latitude')\n",
    "ax.set_title('Predicted Tree Coordinates with Panoramic Locations')\n",
    "ax.legend()\n",
    "\n",
    "# Show the plot\n",
    "plt.show()\n"
   ]
  },
  {
   "cell_type": "markdown",
   "id": "f00786d3-5045-4b03-9728-896094f6dd6d",
   "metadata": {},
   "source": [
    "# Average Duplicate Observations within Buffer of Tree Inventory"
   ]
  },
  {
   "cell_type": "code",
   "execution_count": null,
   "id": "657e8fb5-4527-40c3-8e5e-9390ea821761",
   "metadata": {
    "tags": []
   },
   "outputs": [],
   "source": [
    "import pandas as pd\n",
    "import geopandas as gpd\n",
    "from shapely.geometry import Point\n",
    "import matplotlib.pyplot as plt\n",
    "from shapely.ops import nearest_points\n",
    "\n",
    "# Define the maximum distance for buffering\n",
    "max_dist = 0.00005 # approx 5.55 meters 0.00005\n",
    "max_dist = 0.0001\n",
    "\n",
    "# Create a new dataframe to hold the averaged point locations\n",
    "averaged_points = []\n",
    "\n",
    "# Define the bounding box area used for tree predictions\n",
    "bbox = [\n",
    "    trees_df['tree_lon'].min() - 0.0001,\n",
    "    trees_df['tree_lon'].max() + 0.0001,\n",
    "    trees_df['tree_lat'].min() - 0.0001,\n",
    "    trees_df['tree_lat'].max() + 0.0001\n",
    "]\n",
    "\n",
    "# Read in ground truth .csv file containing 'latitude' and 'longitude' columns information on tree locations\n",
    "tree_inventory_df = pd.read_csv(r'C:\\Users\\talake2\\Desktop\\auto_arborist_cvpr2022_v015\\auto_arborist_tfrecords_data\\auto_arborist_tfrecords_csv\\tfrecords_locs_all.csv')\n",
    "\n",
    "# Crop the ground truth records to the bounding box where trees are predicted\n",
    "cropped_tree_inventory = tree_inventory_df[\n",
    "    (tree_inventory_df['Longitude'] >= bbox[0]) &\n",
    "    (tree_inventory_df['Longitude'] <= bbox[1]) &\n",
    "    (tree_inventory_df['Latitude'] >= bbox[2]) &\n",
    "    (tree_inventory_df['Latitude'] <= bbox[3])\n",
    "]\n",
    "\n",
    "# Create a GeoDataFrame for predicted tree locations with buffers\n",
    "trees_geometry = gpd.points_from_xy(trees_df['tree_lon'], trees_df['tree_lat'])\n",
    "trees_gdf = gpd.GeoDataFrame(trees_df, geometry=trees_geometry)\n",
    "\n",
    "# Create a GeoDataFrame for cropped_tree_inventory locations\n",
    "cropped_tree_inventory_geometry = gpd.points_from_xy(cropped_tree_inventory['Longitude'], cropped_tree_inventory['Latitude'])\n",
    "cropped_tree_inventory_gdf = gpd.GeoDataFrame(cropped_tree_inventory, geometry=cropped_tree_inventory_geometry)\n",
    "\n",
    "# Buffer ground truth points and find nearest points in trees_df\n",
    "buffered_trees_gdf = cropped_tree_inventory_gdf.copy()\n",
    "buffered_trees_gdf['geometry'] = buffered_trees_gdf['geometry'].buffer(max_dist)\n",
    "\n",
    "# Initialize a new column to store the average location of trees_df points within the tree inventory buffer\n",
    "buffered_trees_gdf['average_location'] = None\n",
    "\n",
    "# Iterate through each ground truth point and find the points in trees_df within the max_dist distance\n",
    "for idx, row in buffered_trees_gdf.iterrows():\n",
    "    \n",
    "    buffer_polygon = row['geometry']\n",
    "    \n",
    "    # Find the points in trees_df within the buffer distance\n",
    "    points_within_buffer = trees_gdf[trees_gdf['geometry'].within(buffer_polygon)]\n",
    "    \n",
    "    # Check if there are points within the buffer\n",
    "    if not points_within_buffer.empty:\n",
    "        # Calculate the average location of the trees_df points within the buffer\n",
    "        avg_lon = points_within_buffer['tree_lon'].mean()\n",
    "        avg_lat = points_within_buffer['tree_lat'].mean()\n",
    "\n",
    "        # Append the averaged point to the list\n",
    "        averaged_points.append({'avg_lon': avg_lon, 'avg_lat': avg_lat, 'Tree ID': row['Tree ID']})\n",
    "        \n",
    "# Create a DataFrame from the list of averaged points from the tree geolocation estimates\n",
    "averaged_points_df = pd.DataFrame(averaged_points)\n",
    "\n",
    "# Create a GeoDataFrame to hold the averaged point locations\n",
    "averaged_points_geometry = gpd.points_from_xy(averaged_points_df['avg_lon'], averaged_points_df['avg_lat'])\n",
    "averaged_points_gdf = gpd.GeoDataFrame(averaged_points_df, geometry=averaged_points_geometry)\n",
    "\n"
   ]
  },
  {
   "cell_type": "markdown",
   "id": "180dfe51-cf15-4f2a-8a87-f99f78a74e68",
   "metadata": {
    "tags": []
   },
   "source": [
    "# Visualilze Predicted Tree Locations, Ground Truth, Buffer Zone, and Averaged Predicted Tree Locations"
   ]
  },
  {
   "cell_type": "code",
   "execution_count": 9,
   "id": "aed89391-7c72-402d-99b3-fb2d5004e502",
   "metadata": {
    "tags": []
   },
   "outputs": [
    {
     "ename": "NameError",
     "evalue": "name 'cropped_tree_inventory_gdf' is not defined",
     "output_type": "error",
     "traceback": [
      "\u001b[1;31m---------------------------------------------------------------------------\u001b[0m",
      "\u001b[1;31mNameError\u001b[0m                                 Traceback (most recent call last)",
      "Cell \u001b[1;32mIn[9], line 6\u001b[0m\n\u001b[0;32m      3\u001b[0m ax\u001b[38;5;241m.\u001b[39mset_aspect(\u001b[38;5;124m'\u001b[39m\u001b[38;5;124mequal\u001b[39m\u001b[38;5;124m'\u001b[39m, adjustable\u001b[38;5;241m=\u001b[39m\u001b[38;5;124m'\u001b[39m\u001b[38;5;124mdatalim\u001b[39m\u001b[38;5;124m'\u001b[39m)\n\u001b[0;32m      5\u001b[0m \u001b[38;5;66;03m# Plot ground truth points and buffer zones\u001b[39;00m\n\u001b[1;32m----> 6\u001b[0m \u001b[43mcropped_tree_inventory_gdf\u001b[49m\u001b[38;5;241m.\u001b[39mplot(ax\u001b[38;5;241m=\u001b[39max, color\u001b[38;5;241m=\u001b[39m\u001b[38;5;124m'\u001b[39m\u001b[38;5;124mred\u001b[39m\u001b[38;5;124m'\u001b[39m, marker\u001b[38;5;241m=\u001b[39m\u001b[38;5;124m'\u001b[39m\u001b[38;5;124mo\u001b[39m\u001b[38;5;124m'\u001b[39m, label\u001b[38;5;241m=\u001b[39m\u001b[38;5;124m'\u001b[39m\u001b[38;5;124mTree Inventory\u001b[39m\u001b[38;5;124m'\u001b[39m)\n\u001b[0;32m      7\u001b[0m buffered_trees_gdf\u001b[38;5;241m.\u001b[39mboundary\u001b[38;5;241m.\u001b[39mplot(ax\u001b[38;5;241m=\u001b[39max, color\u001b[38;5;241m=\u001b[39m\u001b[38;5;124m'\u001b[39m\u001b[38;5;124mblue\u001b[39m\u001b[38;5;124m'\u001b[39m, linewidth\u001b[38;5;241m=\u001b[39m\u001b[38;5;241m2\u001b[39m, linestyle\u001b[38;5;241m=\u001b[39m\u001b[38;5;124m'\u001b[39m\u001b[38;5;124m--\u001b[39m\u001b[38;5;124m'\u001b[39m, label\u001b[38;5;241m=\u001b[39m\u001b[38;5;124m'\u001b[39m\u001b[38;5;124mBuffer Zone\u001b[39m\u001b[38;5;124m'\u001b[39m)\n\u001b[0;32m      9\u001b[0m \u001b[38;5;66;03m# Plot trees_df points and average locations within the buffer\u001b[39;00m\n",
      "\u001b[1;31mNameError\u001b[0m: name 'cropped_tree_inventory_gdf' is not defined"
     ]
    },
    {
     "data": {
      "image/png": "[encoded data removed]",
      "text/plain": [
       "<Figure size 1000x800 with 1 Axes>"
      ]
     },
     "metadata": {},
     "output_type": "display_data"
    }
   ],
   "source": [
    "# Plotting\n",
    "fig, ax = plt.subplots(figsize=(10, 8))\n",
    "ax.set_aspect('equal', adjustable='datalim')\n",
    "\n",
    "# Plot ground truth points and buffer zones\n",
    "cropped_tree_inventory_gdf.plot(ax=ax, color='red', marker='o', label='Tree Inventory')\n",
    "buffered_trees_gdf.boundary.plot(ax=ax, color='blue', linewidth=2, linestyle='--', label='Buffer Zone')\n",
    "\n",
    "# Plot trees_df points and average locations within the buffer\n",
    "trees_gdf.plot(ax=ax, color='green', marker='o', label='Predicted Trees')\n",
    "averaged_points_gdf.plot(ax=ax, color='orange', marker='o', label='Average Locations')  # Add this line\n",
    "\n",
    "# Adding labels and legend\n",
    "ax.set_xlabel('Longitude')\n",
    "ax.set_ylabel('Latitude')\n",
    "ax.set_title('Ground Truth Points, Buffer Zones, Predicted Trees, and Average Locations')\n",
    "ax.legend()\n",
    "\n",
    "# Show the plot\n",
    "plt.show()"
   ]
  },
  {
   "cell_type": "markdown",
   "id": "52547059-c315-457c-bd0b-ebfaa9097f54",
   "metadata": {},
   "source": [
    "# Error Assessment: Calculate Distance Between Tree Inventory and Detected Trees"
   ]
  },
  {
   "cell_type": "code",
   "execution_count": null,
   "id": "3054a3e8-9e93-4a7d-90b4-30ac15032e43",
   "metadata": {
    "tags": []
   },
   "outputs": [],
   "source": [
    "# Error Assessment: Calculate Distance Between Tree Inventory and Detected Trees\n",
    "from geopy.distance import geodesic\n",
    "\n",
    "# Cobmine dataframes: tree inventory ground truth dataframe with the averaged estimates for geolocated trees\n",
    "merged_df = pd.merge(cropped_tree_inventory_gdf, averaged_points_gdf, how='inner', on='Tree ID')  # Replace 'common_identifier' with the actual common identifier or index\n",
    "\n",
    "# Iterate through each row in the dataframe\n",
    "for index, row in merged_df.iterrows():\n",
    "    # Extract latitude and longitude for each point\n",
    "    point_x = (row['geometry_x'].y, row['geometry_x'].x)\n",
    "    point_y = (row['geometry_y'].y, row['geometry_y'].x)\n",
    "\n",
    "    # Calculate the distance between the two points using geodesic\n",
    "    distance = geopy.distance.geodesic(point_x, point_y).meters\n",
    "\n",
    "    # Assign the distance to a new column, e.g., 'distance'\n",
    "    merged_df.at[index, 'Error distance'] = distance\n",
    "\n",
    "    \n",
    "# Calculate the RMSE\n",
    "rmse = np.sqrt((merged_df['Error distance']**2).mean())\n",
    "\n",
    "print(f'Root Mean Squared Error (RMSE): {rmse:.6f} meters')\n"
   ]
  },
  {
   "cell_type": "code",
   "execution_count": null,
   "id": "eb69ab26-c4ea-474a-b7f1-79b10753fbf9",
   "metadata": {
    "tags": []
   },
   "outputs": [],
   "source": [
    "# Assuming 'tree_id' is the common identifier between the DataFrames\n",
    "merged_df"
   ]
  },
  {
   "cell_type": "code",
   "execution_count": null,
   "id": "51405446-e20b-4c72-b6d4-c0eaabda2aa3",
   "metadata": {
    "tags": []
   },
   "outputs": [],
   "source": [
    "trees_df"
   ]
  },
  {
   "cell_type": "code",
   "execution_count": null,
   "id": "7376f473-8cc8-464c-9404-a105066c9eb7",
   "metadata": {
    "tags": []
   },
   "outputs": [],
   "source": [
    "# Export Predicted Tree Locations\n",
    "\n",
    "# Rename columns\n",
    "merged_df = merged_df.rename(columns={\n",
    "    'Tree ID': 'tree_id',\n",
    "    'Tree Location IDX': 'tree_location_idx',\n",
    "    'City': 'city',\n",
    "    'Latitude': 'latitude_inventory',\n",
    "    'Longitude': 'longitude_inventory',\n",
    "    'Tree Center Y Street Img': 'tree_center_y_street_img',\n",
    "    'avg_lon': 'longitude_geolocated',\n",
    "    'avg_lat': 'latitude_geolocated',\n",
    "    'distance': 'distance'\n",
    "})\n",
    "\n",
    "# Export the DataFrame with the updated column names\n",
    "merged_df.to_csv('c:/users/talake2/desktop/exported_data_la.csv', index=False)"
   ]
  },
  {
   "cell_type": "markdown",
   "id": "5133db00-ebe3-4fb4-927a-825b35536478",
   "metadata": {
    "tags": []
   },
   "source": [
    "# Visualize Each Detected Tree Per Pano"
   ]
  },
  {
   "cell_type": "code",
   "execution_count": 10,
   "id": "f021b2cd-09b5-4818-a6e4-4f8df40f14a0",
   "metadata": {
    "tags": []
   },
   "outputs": [
    {
     "data": {
      "text/plain": [
       "<Figure size 1000x800 with 0 Axes>"
      ]
     },
     "execution_count": 10,
     "metadata": {},
     "output_type": "execute_result"
    },
    {
     "data": {
      "text/plain": [
       "<AxesSubplot:xlabel='tree_lon', ylabel='tree_lat'>"
      ]
     },
     "execution_count": 10,
     "metadata": {},
     "output_type": "execute_result"
    },
    {
     "data": {
      "text/plain": [
       "<matplotlib.collections.PathCollection at 0x1ef734e5720>"
      ]
     },
     "execution_count": 10,
     "metadata": {},
     "output_type": "execute_result"
    },
    {
     "data": {
      "text/plain": [
       "<AxesSubplot:xlabel='tree_lon', ylabel='tree_lat'>"
      ]
     },
     "execution_count": 10,
     "metadata": {},
     "output_type": "execute_result"
    },
    {
     "data": {
      "text/plain": [
       "<matplotlib.collections.PathCollection at 0x1ef734e4df0>"
      ]
     },
     "execution_count": 10,
     "metadata": {},
     "output_type": "execute_result"
    },
    {
     "data": {
      "text/plain": [
       "<AxesSubplot:xlabel='tree_lon', ylabel='tree_lat'>"
      ]
     },
     "execution_count": 10,
     "metadata": {},
     "output_type": "execute_result"
    },
    {
     "data": {
      "text/plain": [
       "<matplotlib.collections.PathCollection at 0x1ef734e4c40>"
      ]
     },
     "execution_count": 10,
     "metadata": {},
     "output_type": "execute_result"
    },
    {
     "data": {
      "text/plain": [
       "<AxesSubplot:xlabel='tree_lon', ylabel='tree_lat'>"
      ]
     },
     "execution_count": 10,
     "metadata": {},
     "output_type": "execute_result"
    },
    {
     "data": {
      "text/plain": [
       "<matplotlib.collections.PathCollection at 0x1edcb8cad70>"
      ]
     },
     "execution_count": 10,
     "metadata": {},
     "output_type": "execute_result"
    },
    {
     "data": {
      "text/plain": [
       "<AxesSubplot:xlabel='tree_lon', ylabel='tree_lat'>"
      ]
     },
     "execution_count": 10,
     "metadata": {},
     "output_type": "execute_result"
    },
    {
     "data": {
      "text/plain": [
       "<matplotlib.collections.PathCollection at 0x1edd21683a0>"
      ]
     },
     "execution_count": 10,
     "metadata": {},
     "output_type": "execute_result"
    },
    {
     "data": {
      "text/plain": [
       "<AxesSubplot:xlabel='tree_lon', ylabel='tree_lat'>"
      ]
     },
     "execution_count": 10,
     "metadata": {},
     "output_type": "execute_result"
    },
    {
     "data": {
      "text/plain": [
       "<matplotlib.collections.PathCollection at 0x1ef78d07bb0>"
      ]
     },
     "execution_count": 10,
     "metadata": {},
     "output_type": "execute_result"
    },
    {
     "data": {
      "text/plain": [
       "<AxesSubplot:xlabel='tree_lon', ylabel='tree_lat'>"
      ]
     },
     "execution_count": 10,
     "metadata": {},
     "output_type": "execute_result"
    },
    {
     "data": {
      "text/plain": [
       "<matplotlib.collections.PathCollection at 0x1ef734ba140>"
      ]
     },
     "execution_count": 10,
     "metadata": {},
     "output_type": "execute_result"
    },
    {
     "data": {
      "text/plain": [
       "<AxesSubplot:xlabel='tree_lon', ylabel='tree_lat'>"
      ]
     },
     "execution_count": 10,
     "metadata": {},
     "output_type": "execute_result"
    },
    {
     "data": {
      "text/plain": [
       "<matplotlib.collections.PathCollection at 0x1ef7cfa21a0>"
      ]
     },
     "execution_count": 10,
     "metadata": {},
     "output_type": "execute_result"
    },
    {
     "data": {
      "text/plain": [
       "<AxesSubplot:xlabel='tree_lon', ylabel='tree_lat'>"
      ]
     },
     "execution_count": 10,
     "metadata": {},
     "output_type": "execute_result"
    },
    {
     "data": {
      "text/plain": [
       "<matplotlib.collections.PathCollection at 0x1ef3985fdc0>"
      ]
     },
     "execution_count": 10,
     "metadata": {},
     "output_type": "execute_result"
    },
    {
     "data": {
      "text/plain": [
       "<AxesSubplot:xlabel='tree_lon', ylabel='tree_lat'>"
      ]
     },
     "execution_count": 10,
     "metadata": {},
     "output_type": "execute_result"
    },
    {
     "data": {
      "text/plain": [
       "<matplotlib.collections.PathCollection at 0x1ef3985fee0>"
      ]
     },
     "execution_count": 10,
     "metadata": {},
     "output_type": "execute_result"
    },
    {
     "data": {
      "text/plain": [
       "<AxesSubplot:xlabel='tree_lon', ylabel='tree_lat'>"
      ]
     },
     "execution_count": 10,
     "metadata": {},
     "output_type": "execute_result"
    },
    {
     "data": {
      "text/plain": [
       "<matplotlib.collections.PathCollection at 0x1ef398765f0>"
      ]
     },
     "execution_count": 10,
     "metadata": {},
     "output_type": "execute_result"
    },
    {
     "data": {
      "text/plain": [
       "<AxesSubplot:xlabel='tree_lon', ylabel='tree_lat'>"
      ]
     },
     "execution_count": 10,
     "metadata": {},
     "output_type": "execute_result"
    },
    {
     "data": {
      "text/plain": [
       "<matplotlib.collections.PathCollection at 0x1ef3989bca0>"
      ]
     },
     "execution_count": 10,
     "metadata": {},
     "output_type": "execute_result"
    },
    {
     "data": {
      "text/plain": [
       "<AxesSubplot:xlabel='tree_lon', ylabel='tree_lat'>"
      ]
     },
     "execution_count": 10,
     "metadata": {},
     "output_type": "execute_result"
    },
    {
     "data": {
      "text/plain": [
       "<matplotlib.collections.PathCollection at 0x1ef79cfc8b0>"
      ]
     },
     "execution_count": 10,
     "metadata": {},
     "output_type": "execute_result"
    },
    {
     "data": {
      "text/plain": [
       "<AxesSubplot:xlabel='tree_lon', ylabel='tree_lat'>"
      ]
     },
     "execution_count": 10,
     "metadata": {},
     "output_type": "execute_result"
    },
    {
     "data": {
      "text/plain": [
       "<matplotlib.collections.PathCollection at 0x1ef3987dd80>"
      ]
     },
     "execution_count": 10,
     "metadata": {},
     "output_type": "execute_result"
    },
    {
     "data": {
      "text/plain": [
       "<AxesSubplot:xlabel='tree_lon', ylabel='tree_lat'>"
      ]
     },
     "execution_count": 10,
     "metadata": {},
     "output_type": "execute_result"
    },
    {
     "data": {
      "text/plain": [
       "<matplotlib.collections.PathCollection at 0x1edcbac7af0>"
      ]
     },
     "execution_count": 10,
     "metadata": {},
     "output_type": "execute_result"
    },
    {
     "data": {
      "text/plain": [
       "<AxesSubplot:xlabel='tree_lon', ylabel='tree_lat'>"
      ]
     },
     "execution_count": 10,
     "metadata": {},
     "output_type": "execute_result"
    },
    {
     "data": {
      "text/plain": [
       "<matplotlib.collections.PathCollection at 0x1edcbac5720>"
      ]
     },
     "execution_count": 10,
     "metadata": {},
     "output_type": "execute_result"
    },
    {
     "data": {
      "text/plain": [
       "<AxesSubplot:xlabel='tree_lon', ylabel='tree_lat'>"
      ]
     },
     "execution_count": 10,
     "metadata": {},
     "output_type": "execute_result"
    },
    {
     "data": {
      "text/plain": [
       "<matplotlib.collections.PathCollection at 0x1ef7532ab30>"
      ]
     },
     "execution_count": 10,
     "metadata": {},
     "output_type": "execute_result"
    },
    {
     "data": {
      "text/plain": [
       "<AxesSubplot:xlabel='tree_lon', ylabel='tree_lat'>"
      ]
     },
     "execution_count": 10,
     "metadata": {},
     "output_type": "execute_result"
    },
    {
     "data": {
      "text/plain": [
       "<matplotlib.collections.PathCollection at 0x1ef734b8df0>"
      ]
     },
     "execution_count": 10,
     "metadata": {},
     "output_type": "execute_result"
    },
    {
     "data": {
      "text/plain": [
       "<AxesSubplot:xlabel='tree_lon', ylabel='tree_lat'>"
      ]
     },
     "execution_count": 10,
     "metadata": {},
     "output_type": "execute_result"
    },
    {
     "data": {
      "text/plain": [
       "<matplotlib.collections.PathCollection at 0x1ef3987c9d0>"
      ]
     },
     "execution_count": 10,
     "metadata": {},
     "output_type": "execute_result"
    },
    {
     "data": {
      "text/plain": [
       "Text(0.5, 0, 'Longitude')"
      ]
     },
     "execution_count": 10,
     "metadata": {},
     "output_type": "execute_result"
    },
    {
     "data": {
      "text/plain": [
       "Text(0, 0.5, 'Latitude')"
      ]
     },
     "execution_count": 10,
     "metadata": {},
     "output_type": "execute_result"
    },
    {
     "data": {
      "text/plain": [
       "Text(0.5, 1.0, 'Scatterplot of Panoramic Locations and Trees with Matching Colors')"
      ]
     },
     "execution_count": 10,
     "metadata": {},
     "output_type": "execute_result"
    },
    {
     "data": {
      "text/plain": [
       "<matplotlib.legend.Legend at 0x1ef7cf466e0>"
      ]
     },
     "execution_count": 10,
     "metadata": {},
     "output_type": "execute_result"
    },
    {
     "data": {
      "image/png": "[encoded data removed]",
      "text/plain": [
       "<Figure size 1000x800 with 1 Axes>"
      ]
     },
     "metadata": {},
     "output_type": "display_data"
    }
   ],
   "source": [
    "import seaborn as sns\n",
    "\n",
    "# Make a scatterplot\n",
    "plt.figure(figsize=(10, 8))\n",
    "\n",
    "# Define a color palette with unique colors for each pano_ID\n",
    "color_palette = sns.color_palette(\"Set2\", len(trees_df['pano_ID'].unique()))\n",
    "\n",
    "# Loop through unique pano_IDs and plot tree coordinates with the same color for both scatterplots\n",
    "for idx, pano_id in enumerate(trees_df['pano_ID'].unique()):\n",
    "    subset = trees_df[trees_df['pano_ID'] == pano_id]\n",
    "    \n",
    "    # Get the color from the color palette\n",
    "    color = color_palette[idx]\n",
    "\n",
    "    sns.scatterplot(x='tree_lon', y='tree_lat', data=subset, label=pano_id, alpha=0.7, color=color)\n",
    "\n",
    "    # Plot 'X' marker with the same color as the tree data\n",
    "    pano_data = subset.iloc[0]\n",
    "    plt.scatter(pano_data['pano_lon'], pano_data['pano_lat'], marker='x', color=color)\n",
    "\n",
    "# Adding labels and legend\n",
    "plt.xlabel('Longitude')\n",
    "plt.ylabel('Latitude')\n",
    "plt.title('Scatterplot of Panoramic Locations and Trees with Matching Colors')\n",
    "plt.legend()\n",
    "\n",
    "# Show the plot\n",
    "plt.show()"
   ]
  },
  {
   "cell_type": "code",
   "execution_count": null,
   "id": "6902f26d-1dfc-434c-bab5-c8cc8220fd0c",
   "metadata": {
    "tags": []
   },
   "outputs": [],
   "source": []
  }
 ],
 "metadata": {
  "kernelspec": {
   "display_name": "Python (tensorflow 2.10)",
   "language": "python",
   "name": "tensorflow_210"
  },
  "language_info": {
   "codemirror_mode": {
    "name": "ipython",
    "version": 3
   },
   "file_extension": ".py",
   "mimetype": "text/x-python",
   "name": "python",
   "nbconvert_exporter": "python",
   "pygments_lexer": "ipython3",
   "version": "3.10.13"
  }
 },
 "nbformat": 4,
 "nbformat_minor": 5
}
