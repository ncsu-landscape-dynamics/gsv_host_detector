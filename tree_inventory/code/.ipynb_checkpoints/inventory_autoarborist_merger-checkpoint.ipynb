{
 "cells": [
  {
   "cell_type": "code",
   "execution_count": null,
   "metadata": {
    "vscode": {
     "languageId": "plaintext"
    }
   },
   "outputs": [],
   "source": [
    "#imports  \n",
    "\n",
    "import pandas as pd\n",
    "import os\n",
    "import re\n"
   ]
  },
  {
   "cell_type": "code",
   "execution_count": null,
   "metadata": {
    "vscode": {
     "languageId": "plaintext"
    }
   },
   "outputs": [],
   "source": [
    "# remove all letters and special characters from coordinates\n",
    "\n",
    "def cleanCoordinates(coord):\n",
    "  return re.sub(r'[A-Za-z()]+', '', coord).strip()\n"
   ]
  },
  {
   "cell_type": "code",
   "execution_count": null,
   "metadata": {
    "vscode": {
     "languageId": "plaintext"
    }
   },
   "outputs": [],
   "source": [
    "# convert the number to a string with the specified sig fits\n",
    "\n",
    "def truncateString(number):\n",
    "  if '.' in number:\n",
    "    index = number.index('.')\n",
    "    return number[:index + 7] \n",
    "  return number\n"
   ]
  },
  {
   "cell_type": "code",
   "execution_count": null,
   "metadata": {
    "vscode": {
     "languageId": "plaintext"
    }
   },
   "outputs": [],
   "source": [
    "# folderpath for the coordinates you are taking\n",
    "\n",
    "folder_path = \"G:/Shared drives/host_tree_cnn/merging_autoarborist_w_inventories/og_inventories_w_names_coords/\"\n",
    "if os.path.exists(folder_path) and os.path.isdir(folder_path):\n",
    "  print(\"Folder exists.\")\n",
    "else:\n",
    "  print(\"Folder does not exist or the path is incorrect.\")\n"
   ]
  },
  {
   "cell_type": "code",
   "execution_count": null,
   "metadata": {
    "vscode": {
     "languageId": "plaintext"
    }
   },
   "outputs": [],
   "source": [
    "#format the main dataframe\n",
    "\n",
    "mainDF = pd.DataFrame()\n",
    "for i, filename in enumerate(os.listdir(folder_path)):\n",
    "  if filename != \"sanjose_inventory.csv\":\n",
    "     continue\n",
    "  file_path = os.path.join(folder_path, filename)\n",
    "  print(file_path)\n",
    "  cityDF = pd.read_csv(file_path)\n",
    "\n",
    "  # do string operations for incorrect formatting\n",
    "  if not {'rounded_lng', 'rounded_lat'}.issubset(cityDF.columns):\n",
    "    cityDF['coordinates'] = cityDF['coordinate'].astype(str)\n",
    "    cityDF['coordinates'] = cityDF['coordinates'].apply(cleanCoordinates)\n",
    "    cityDF[['rounded_lng', 'rounded_lat']] = cityDF['coordinates'].str.split(expand=True)\n",
    "\n",
    "  # take only what we need and add it to a main dataframe\n",
    "  cityDF['rounded_lng'] = cityDF['rounded_lng'].astype(str)\n",
    "  cityDF['rounded_lat'] = cityDF['rounded_lat'].astype(str)\n",
    "\n",
    "  cityDF = cityDF[['rounded_lng', 'rounded_lat', 'genus_name', 'species_name']]\n",
    "\n",
    "  mainDF = pd.concat([mainDF, cityDF], ignore_index=True)\n",
    "\n",
    "mainDF['rounded_lng'] = mainDF['rounded_lng'].apply(truncateString)\n",
    "mainDF['rounded_lat'] = mainDF['rounded_lat'].apply(truncateString)\n"
   ]
  },
  {
   "cell_type": "code",
   "execution_count": null,
   "metadata": {
    "vscode": {
     "languageId": "plaintext"
    }
   },
   "outputs": [],
   "source": [
    "# Change this for the path of the AutoArborist \n",
    "AAPath =  \"G:/Shared drives/host_tree_cnn/merging_autoarborist_w_inventories/og_autoarborist/tree_locations_tfrecord_idx_merged.csv\"\n",
    "AADF  = pd.read_csv(AAPath)\n",
    "\n",
    "AADF['rounded_lng'] = AADF['rounded_lng'].astype(str).apply(truncateString)\n",
    "AADF['rounded_lat'] = AADF['rounded_lat'].astype(str).apply(truncateString)\n",
    "AADF = pd.merge(AADF, mainDF[['rounded_lng', 'rounded_lat', 'genus_name', 'species_name']], \n",
    "                    on=['rounded_lng', 'rounded_lat'], \n",
    "                    how='left')\n",
    "filename = \"AutoArboristData.csv\"\n",
    "AADF.to_csv('G:/Shared drives/host_tree_cnn/merging_autoarborist_w_inventories/autoarborist_names_appended/' + filename, index=False)\n"
   ]
  }
 ],
 "metadata": {
  "language_info": {
   "name": "python"
  }
 },
 "nbformat": 4,
 "nbformat_minor": 2
}
