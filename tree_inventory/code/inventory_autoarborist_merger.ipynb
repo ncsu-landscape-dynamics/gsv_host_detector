{
 "cells": [
  {
   "cell_type": "code",
   "execution_count": 1,
   "metadata": {
    "vscode": {
     "languageId": "plaintext"
    }
   },
   "outputs": [],
   "source": [
    "#imports  \n",
    "\n",
    "import pandas as pd\n",
    "import os\n",
    "import re\n",
    "import numpy as np\n",
    "\n"
   ]
  },
  {
   "cell_type": "code",
   "execution_count": 2,
   "metadata": {},
   "outputs": [],
   "source": [
    "pd.set_option('display.max_columns', None)\n",
    "pd.set_option('display.width', None)\n",
    "pd.set_option('display.max_rows', 10000)\n",
    "pd.set_option('display.max_colwidth', 20)"
   ]
  },
  {
   "cell_type": "code",
   "execution_count": 3,
   "metadata": {
    "vscode": {
     "languageId": "plaintext"
    }
   },
   "outputs": [],
   "source": [
    "# remove all letters and special characters from coordinates\n",
    "\n",
    "def cleanCoordinates(coord):\n",
    "  return re.sub(r'[A-Za-z()]+', '', coord).strip()\n"
   ]
  },
  {
   "cell_type": "code",
   "execution_count": 4,
   "metadata": {
    "vscode": {
     "languageId": "plaintext"
    }
   },
   "outputs": [],
   "source": [
    "# convert the number to a string with the specified sig fits\n",
    "\n",
    "def truncateString(number):\n",
    "  if '.' in number:\n",
    "    index = number.index('.')\n",
    "    return number[:index + 6] \n",
    "  return number\n"
   ]
  },
  {
   "cell_type": "code",
   "execution_count": 5,
   "metadata": {
    "vscode": {
     "languageId": "plaintext"
    }
   },
   "outputs": [
    {
     "name": "stdout",
     "output_type": "stream",
     "text": [
      "Folder exists.\n"
     ]
    }
   ],
   "source": [
    "# folderpath for the coordinates you are taking\n",
    "\n",
    "folder_path = \"G:/Shared drives/host_tree_cnn/merging_autoarborist_w_inventories/og_inventories_w_names_coords/\"\n",
    "if os.path.exists(folder_path) and os.path.isdir(folder_path):\n",
    "  print(\"Folder exists.\")\n",
    "else:\n",
    "  print(\"Folder does not exist or the path is incorrect.\")\n"
   ]
  },
  {
   "cell_type": "code",
   "execution_count": 6,
   "metadata": {
    "vscode": {
     "languageId": "plaintext"
    }
   },
   "outputs": [
    {
     "name": "stdout",
     "output_type": "stream",
     "text": [
      "G:/Shared drives/host_tree_cnn/merging_autoarborist_w_inventories/og_inventories_w_names_coords/bloomington_inventory.csv\n",
      "G:/Shared drives/host_tree_cnn/merging_autoarborist_w_inventories/og_inventories_w_names_coords/boulder_inventory.csv\n",
      "G:/Shared drives/host_tree_cnn/merging_autoarborist_w_inventories/og_inventories_w_names_coords/buffalo_inventory.csv\n",
      "G:/Shared drives/host_tree_cnn/merging_autoarborist_w_inventories/og_inventories_w_names_coords/calgary_inventory.csv\n",
      "G:/Shared drives/host_tree_cnn/merging_autoarborist_w_inventories/og_inventories_w_names_coords/cambridge_inventory.csv\n",
      "G:/Shared drives/host_tree_cnn/merging_autoarborist_w_inventories/og_inventories_w_names_coords/charlottesville_inventory.csv\n",
      "G:/Shared drives/host_tree_cnn/merging_autoarborist_w_inventories/og_inventories_w_names_coords/cupertino_inventory.csv\n",
      "G:/Shared drives/host_tree_cnn/merging_autoarborist_w_inventories/og_inventories_w_names_coords/denver_inventory.csv\n",
      "G:/Shared drives/host_tree_cnn/merging_autoarborist_w_inventories/og_inventories_w_names_coords/edmonton_inventory.csv\n",
      "G:/Shared drives/host_tree_cnn/merging_autoarborist_w_inventories/og_inventories_w_names_coords/kitchener_inventory.csv\n",
      "G:/Shared drives/host_tree_cnn/merging_autoarborist_w_inventories/og_inventories_w_names_coords/montreal_inventory.csv\n",
      "G:/Shared drives/host_tree_cnn/merging_autoarborist_w_inventories/og_inventories_w_names_coords/newyorkcity_inventory.csv\n",
      "G:/Shared drives/host_tree_cnn/merging_autoarborist_w_inventories/og_inventories_w_names_coords/pittsburgh_inventory.csv\n",
      "G:/Shared drives/host_tree_cnn/merging_autoarborist_w_inventories/og_inventories_w_names_coords/sanfrancisco_inventory.csv\n",
      "G:/Shared drives/host_tree_cnn/merging_autoarborist_w_inventories/og_inventories_w_names_coords/sanjose_inventory.csv\n",
      "G:/Shared drives/host_tree_cnn/merging_autoarborist_w_inventories/og_inventories_w_names_coords/santamonica_inventory.csv\n",
      "G:/Shared drives/host_tree_cnn/merging_autoarborist_w_inventories/og_inventories_w_names_coords/siouxfalls_inventory.csv\n",
      "G:/Shared drives/host_tree_cnn/merging_autoarborist_w_inventories/og_inventories_w_names_coords/surrey_inventory.csv\n",
      "G:/Shared drives/host_tree_cnn/merging_autoarborist_w_inventories/og_inventories_w_names_coords/vancouver_inventory.csv\n",
      "G:/Shared drives/host_tree_cnn/merging_autoarborist_w_inventories/og_inventories_w_names_coords/washingtondc_inventory.csv\n",
      "G:/Shared drives/host_tree_cnn/merging_autoarborist_w_inventories/og_inventories_w_names_coords/seattle_inventory.csv\n",
      "G:/Shared drives/host_tree_cnn/merging_autoarborist_w_inventories/og_inventories_w_names_coords/losangeles_inventory.csv\n",
      "G:/Shared drives/host_tree_cnn/merging_autoarborist_w_inventories/og_inventories_w_names_coords/columbus_inventory.csv\n"
     ]
    }
   ],
   "source": [
    "#format the main dataframe\n",
    "mainDF = pd.DataFrame(dtype=str)\n",
    "\n",
    "# iterate through the coords document and append it to one dataframe\n",
    "for i, filename in enumerate(os.listdir(folder_path)):\n",
    "  file_path = os.path.join(folder_path, filename)\n",
    "  print(file_path)\n",
    "  cityDF = pd.read_csv(file_path, dtype=str)\n",
    "    \n",
    "  # do string operations for incorrect formatting\n",
    "  if not {'rounded_lng', 'rounded_lat'}.issubset(cityDF.columns):\n",
    "    cityDF['coordinates'] = cityDF['coordinate'].astype(str).apply(cleanCoordinates)\n",
    "    cityDF[['rounded_lng', 'rounded_lat']] = cityDF['coordinates'].str.split(expand=True)\n",
    "  \n",
    "  # store the original lat/long for debugging purposes \n",
    "  cityDF['original_lng'] = cityDF['rounded_lng']\n",
    "  cityDF['original_lat'] = cityDF['rounded_lat']\n",
    "\n",
    "  #  take only the columns you need\n",
    "  cityDF = cityDF[['original_lng', 'rounded_lng', 'original_lat', 'rounded_lat', 'genus_name', 'species_name']]\n",
    "  \n",
    "\n",
    "  mainDF = pd.concat([mainDF, cityDF], ignore_index=True)\n",
    "  \n",
    "mainDF['rounded_lng'] = mainDF['rounded_lng'].astype(str).apply(truncateString)\n",
    "mainDF['rounded_lat'] = mainDF['rounded_lat'].astype(str).apply(truncateString)\n",
    "mainDF.fillna('Missing', inplace=True)"
   ]
  },
  {
   "cell_type": "code",
   "execution_count": 7,
   "metadata": {
    "vscode": {
     "languageId": "plaintext"
    }
   },
   "outputs": [],
   "source": [
    "# Generate the auto arborist data \n",
    "AAPath =  \"G:/Shared drives/host_tree_cnn/merging_autoarborist_w_inventories/og_autoarborist/tree_locations_tfrecord_idx_merged.csv\"\n",
    "AADF  = pd.read_csv(AAPath, dtype=str)\n",
    "\n",
    "# format the lat and long\n",
    "AADF['rounded_lat'] = AADF['SHAPE_LAT']\n",
    "AADF['rounded_lng']= AADF['SHAPE_LNG']\n",
    "AADF['rounded_lng'] = AADF['rounded_lng'].apply(truncateString)\n",
    "AADF['rounded_lat'] = AADF['rounded_lat'].apply(truncateString)\n",
    "\n",
    "# complete a left merge \n",
    "AADF = pd.merge(AADF, mainDF[['rounded_lng', 'rounded_lat', 'original_lat', 'original_lng', 'genus_name', 'species_name']], \n",
    "                    on=['rounded_lng', 'rounded_lat'], \n",
    "                    how='left')\n",
    "filename = \"AutoArboristData.csv\"\n",
    "AADF.to_csv('G:/Shared drives/host_tree_cnn/merging_autoarborist_w_inventories/autoarborist_names_appended/' + filename, index=False)\n"
   ]
  },
  {
   "cell_type": "code",
   "execution_count": 8,
   "metadata": {},
   "outputs": [
    {
     "name": "stdout",
     "output_type": "stream",
     "text": [
      "Percentage of 'Missing' values in 'genus_name' column: 4.842329566115402%\n",
      "Percentage of NaN/empty values in 'genus_name' column: 25.88435077307966%\n"
     ]
    }
   ],
   "source": [
    "\n",
    "totalRows = AADF.shape[0]\n",
    "\n",
    "# missing - there is a lat/long match, but there is not corresponding genus\n",
    "missingPercent = (AADF[\"genus_name\"] == \"Missing\").mean() * 100\n",
    "\n",
    "print(f\"Percentage of 'Missing' values in 'genus_name' column: {missingPercent}%\")\n",
    "\n",
    "\n",
    "# there is no lat/long match\n",
    "NaValues = AADF['genus_name'].isnull().sum() + (AADF['genus_name'] == '').sum()\n",
    "\n",
    "\n",
    "percentNA = (NaValues / totalRows) * 100 if totalRows > 0 else 0\n",
    "\n",
    "print(f\"Percentage of NaN/empty values in 'genus_name' column: {percentNA:}%\")\n"
   ]
  },
  {
   "cell_type": "code",
   "execution_count": 9,
   "metadata": {},
   "outputs": [
    {
     "name": "stdout",
     "output_type": "stream",
     "text": [
      "74438\n",
      "Percentage of 'Missing' values in 'genus_name' column: 2.74590934737634%\n",
      "Percentage of NaN/empty values in 'genus_name' column: 84.95795158386845%\n"
     ]
    }
   ],
   "source": [
    "# Check the status of a certain city\n",
    "cityDF = AADF[AADF[\"City\"] == \"Columbus\"]\n",
    "totalRows = cityDF.shape[0]\n",
    "# total rows for the city\n",
    "print(totalRows)\n",
    "\n",
    "# percent missing (genus was not available for the coords)\n",
    "missingPercent = (cityDF[\"genus_name\"] == \"Missing\").mean() * 100\n",
    "print(f\"Percentage of 'Missing' values in 'genus_name' column: {missingPercent}%\")\n",
    "\n",
    "\n",
    "# percent absent (no coords match\n",
    "NaValues = cityDF['genus_name'].isnull().sum() + (cityDF['genus_name'] == '').sum()\n",
    "percentNA = (NaValues / totalRows) * 100 if totalRows > 0 else 0\n",
    "print(f\"Percentage of NaN/empty values in 'genus_name' column: {percentNA:}%\")\n",
    "\n"
   ]
  },
  {
   "cell_type": "markdown",
   "metadata": {},
   "source": [
    "# "
   ]
  }
 ],
 "metadata": {
  "kernelspec": {
   "display_name": "Python 3 (ipykernel)",
   "language": "python",
   "name": "python3"
  },
  "language_info": {
   "codemirror_mode": {
    "name": "ipython",
    "version": 3
   },
   "file_extension": ".py",
   "mimetype": "text/x-python",
   "name": "python",
   "nbconvert_exporter": "python",
   "pygments_lexer": "ipython3",
   "version": "3.12.1"
  }
 },
 "nbformat": 4,
 "nbformat_minor": 4
}
