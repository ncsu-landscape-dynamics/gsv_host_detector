{
 "cells": [
  {
   "cell_type": "markdown",
   "id": "963f3b96-deb2-4e2a-88e0-044411ea79b8",
   "metadata": {},
   "source": [
    "# Accessing Street-Level Imagery with Open Street Maps \n",
    "\n",
    "Author: Thomas Lake\n",
    "\n",
    "Using OSMnx to create street networks from OpenStreetMap.\n",
    "\n",
    "See research paper: Boeing, 2017. OSMnx: New methods for acquiring, constructing, analyzing, and visualizing complex street networks.\n",
    "\n",
    "The following notebook explores the Python OSMnx package (https://osmnx.readthedocs.io/en/stable/getting-started.html#introducing-osmnx)\n",
    "\n",
    "You can download a street network by providing OSMnx any of the following:\n",
    "\n",
    "- a bounding box\n",
    "- a lat-long point plus a distance\n",
    "- an address plus a distance\n",
    "- a place name or list of place names (to automatically geocode and get the boundary of)\n",
    "- a polygon of the desired street network's boundaries\n",
    "- a .osm formatted xml file\n",
    "\n",
    "You can also specify several different network types:\n",
    "\n",
    "- 'drive' - get drivable public streets (but not service roads)\n",
    "- 'drive_service' - get drivable streets, including service roads\n",
    "- 'walk' - get all streets and paths that pedestrians can use (this network type ignores one-way directionality)\n",
    "- 'bike' - get all streets and paths that cyclists can use\n",
    "- 'all' - download all non-private OSM streets and paths (this is the default network type unless you specify a different one)\n",
    "- 'all_private' - download all OSM streets and paths, including private-access ones\n",
    "\n",
    "Once created, maps of street networks derived from Open Street Maps can be used to create regularly-spaced points along publicly-accessabile streets, and then sample Google Street View locations from points along a road network.\n",
    "\n",
    "This process is outlined in the research paper: Vazquez Sanchez and Labib, 2024. Accessing eye-level greenness visibility from open-source street view images: A methodological development and implementation in multi-city and multi-country contexts. See: https://github.com/Spatial-Data-Science-and-GEO-AI-Lab/StreetView-NatureVisibility\n",
    "\n",
    "To programatically download google street view images from locations using the Google API, see the Python package 'streetview': https://github.com/robolyst/streetview/tree/master\n"
   ]
  },
  {
   "cell_type": "markdown",
   "id": "bd9dcdb3-03c0-4214-afe8-fd0ca416c2c4",
   "metadata": {},
   "source": [
    "# Imports"
   ]
  },
  {
   "cell_type": "code",
   "execution_count": null,
   "id": "57560d4d-e706-4fc8-b0f1-17513e86f327",
   "metadata": {
    "tags": []
   },
   "outputs": [],
   "source": [
    "# Imports for OSMnx\n",
    "# https://osmnx.readthedocs.io/en/stable/user-reference.html\n",
    "import networkx as nx\n",
    "import osmnx as ox\n",
    "print(ox.__version__) # OSMnx plans to update to version 2.0 in 2024.\n",
    "\n",
    "# Imports for Google Street View Image downloader\n",
    "# https://github.com/robolyst/streetview/tree/master\n",
    "from streetview import search_panoramas, get_panorama_meta, get_streetview, get_panorama\n",
    "\n",
    "# Other Imports\n",
    "import time\n",
    "import os\n",
    "from tqdm import tqdm\n",
    "from datetime import datetime\n",
    "import requests\n",
    "import json\n",
    "import pandas as pd\n",
    "import geopandas as gpd\n",
    "import numpy as np\n",
    "import folium\n",
    "import matplotlib.pyplot as plt\n",
    "from scipy.spatial import cKDTree\n",
    "from shapely.geometry import Point\n",
    "import geopy.distance\n",
    "\n"
   ]
  },
  {
   "cell_type": "code",
   "execution_count": null,
   "id": "db6b8aa5-3cba-40a7-8092-b39febb748fe",
   "metadata": {},
   "outputs": [],
   "source": []
  },
  {
   "cell_type": "code",
   "execution_count": null,
   "id": "ddb4756b-39bf-4548-9fd8-33abf19062f5",
   "metadata": {},
   "outputs": [],
   "source": [
    "# Read Google Street View API Key for downloading GSV images\n",
    "\n",
    "# Read secret API key\n",
    "key_path = r'C:\\Users\\talake2\\Desktop\\auto_arborist_cvpr2022_v015\\api_keys\\Google_Street_View_Static_API_Key.txt'\n",
    "with open(key_path, 'r') as file:\n",
    "    GOOGLE_MAPS_API_KEY = file.read().strip()"
   ]
  },
  {
   "cell_type": "markdown",
   "id": "30da8ad2-e7e4-46b1-88f6-8bbbdfa2d9cd",
   "metadata": {},
   "source": [
    "# OSMnx Functions\n"
   ]
  },
  {
   "cell_type": "code",
   "execution_count": null,
   "id": "8d73d00c-e807-47e2-95b2-5db05fa0f091",
   "metadata": {
    "tags": []
   },
   "outputs": [],
   "source": [
    "# Following implementation of OSMnx in the manuscript: https://www.sciencedirect.com/science/article/pii/S221067072400091X?via%3Dihub#bib0020\n",
    "# and code implementation of OSMnx from the manuscript: https://github.com/Spatial-Data-Science-and-GEO-AI-Lab/StreetView-NatureVisibility\n",
    "\n",
    "def get_road_network_from_point(location, dist):\n",
    "    # Get the road network graph using OpenStreetMap data\n",
    "    # 'network_type' argument is set to 'drive' to get the road network suitable for driving\n",
    "    # 'simplify' argument is set to 'True' to simplify the road network\n",
    "    G = ox.graph_from_point(location, dist, dist_type = 'network', network_type='drive', simplify=True)\n",
    "\n",
    "    # Create a set to store unique road identifiers\n",
    "    unique_roads = set()\n",
    "    # Create a new graph to store the simplified road network\n",
    "    G_simplified = G.copy()\n",
    "\n",
    "    # Iterate over each road segment\n",
    "    for u, v, key, data in G.edges(keys=True, data=True):\n",
    "        # Check if the road segment is a duplicate\n",
    "        if (v, u) in unique_roads:\n",
    "            # Remove the duplicate road segment\n",
    "            G_simplified.remove_edge(u, v, key)\n",
    "        else:\n",
    "            # Add the road segment to the set of unique roads\n",
    "            unique_roads.add((u, v))\n",
    "    \n",
    "    # Update the graph with the simplified road network\n",
    "    G = G_simplified\n",
    "    \n",
    "    # Project the graph from latitude-longitude coordinates to a local projection (in meters)\n",
    "    G_proj = ox.project_graph(G)\n",
    "\n",
    "    # Convert the projected graph to a GeoDataFrame\n",
    "    # This function projects the graph to the UTM CRS for the UTM zone in which the graph's centroid lies\n",
    "    _, edges = ox.graph_to_gdfs(G_proj) \n",
    "\n",
    "    return G, edges\n",
    "\n",
    "\n",
    "\n",
    "def select_points_on_road_network(roads, N=15):\n",
    "    # Get a list of points over the road map with a N distance between them\n",
    "    points = []\n",
    "    # Iterate over each road\n",
    "    \n",
    "    for row in roads.itertuples(index=True, name='Road'):\n",
    "        # Get the LineString object from the geometry\n",
    "        linestring = row.geometry\n",
    "        index = row.Index\n",
    "\n",
    "        # Calculate the distance along the linestring and create points every 50 meters\n",
    "        for distance in range(0, int(linestring.length), N):\n",
    "            # Get the point on the road at the current position\n",
    "            point = linestring.interpolate(distance)\n",
    "\n",
    "            # Add the curent point to the list of points\n",
    "            points.append([point, index])\n",
    "    \n",
    "    # Convert the list of points to a GeoDataFrame\n",
    "    gdf_points = gpd.GeoDataFrame(points, columns=[\"geometry\", \"road_index\"], geometry=\"geometry\")\n",
    "\n",
    "    # Set the same CRS as the road dataframes for the points dataframe\n",
    "    gdf_points.set_crs(roads.crs, inplace=True)\n",
    "\n",
    "    # Drop duplicate rows based on the geometry column\n",
    "    gdf_points = gdf_points.drop_duplicates(subset=['geometry'])\n",
    "    gdf_points = gdf_points.reset_index(drop=True)\n",
    "\n",
    "    return gdf_points"
   ]
  },
  {
   "cell_type": "markdown",
   "id": "98496db9-8dde-463d-b012-d1b8a789eac8",
   "metadata": {
    "tags": []
   },
   "source": []
  },
  {
   "cell_type": "markdown",
   "id": "9f2bee13-f58d-4501-b6e1-1fba9b2eb9fa",
   "metadata": {
    "tags": []
   },
   "source": [
    "# Setup. Define Locations to Sample Road Networks for Tree Geolocation Analyses"
   ]
  },
  {
   "cell_type": "code",
   "execution_count": null,
   "id": "85ba39e2-89b4-4873-9973-e1b7c32c4dcc",
   "metadata": {
    "tags": []
   },
   "outputs": [],
   "source": [
    "\n",
    "# Create dictionary of 20 testing locations for tree geolocation analyses\n",
    "apple_park = (37.33354, -122.00567)\n",
    "buffalo = (42.92952, -78.87408)\n",
    "columbus = (40.15238321, -82.97449574)\n",
    "la = (33.75995068, -118.286375)\n",
    "montreal = (45.46182151, -73.60870962)\n",
    "nyc = (40.59332846238751, -73.96461341067977)\n",
    "nyc_2 = (40.67957647, -73.73748243)\n",
    "pittsburgh = (40.44788537, -80.01430011)\n",
    "sanfran = (37.72658289, -122.4719503)\n",
    "sanfran_lombard = (37.80247707, -122.4181456)\n",
    "sanjose = (37.28612748, -121.8084685)\n",
    "seattle = (47.62319504, -122.3574537)\n",
    "seattle_3 = (47.57606272, -122.3865466)\n",
    "siouxfalls = (43.49218953, -96.72747222)\n",
    "siouxfalls_2 = (43.49514608, -96.73300202)\n",
    "siouxfalls_3 = (43.5491668, -96.73438307)\n",
    "vancouver = (49.25261711, -123.023932)\n",
    "vancouver_4 = (49.21252079, -123.0568194)\n",
    "washington = (38.94273133, -76.99800397)\n",
    "washington_2 = (38.88023974, -77.01280141)\n",
    "st_helena = (38.50500615673824, -122.46982548134353)\n",
    "\n",
    "\n",
    "sel_location = st_helena\n"
   ]
  },
  {
   "cell_type": "markdown",
   "id": "0dc862e6-c4af-427f-b773-b4976eaca09b",
   "metadata": {},
   "source": [
    "# Step 1. Get the road network from point + distance\n",
    "\n",
    "The first step of the code is to retrieve the road network for a specific place using OpenStreetMap data with the help of the OSMNX library. It begins by fetching the road network graph, focusing on roads that are suitable for driving. One important thing to note is that for bidirectional streets, the osmnx library returns duplicate lines. In this code, we take care to remove these duplicates and keep only the unique road segments to ensure that samples are not taken on the same road multiple times, preventing redundancy in subsequent analysis.\n",
    "\n",
    "Following that, the code proceeds to project the graph from its original latitude-longitude coordinates to a local projection in meters. This projection is crucial for achieving accurate measurements in subsequent steps where we need to calculate distances between points. By converting the graph to a local projection, we ensure that our measurements align with the real-world distances on the ground, enabling precise analysis and calculations based on the road network data.\n"
   ]
  },
  {
   "cell_type": "code",
   "execution_count": null,
   "id": "71b8bb7a-c036-4cc8-b22d-b656060652a7",
   "metadata": {
    "tags": []
   },
   "outputs": [],
   "source": [
    "# Set distance to get road network\n",
    "distance = 1000\n",
    "\n",
    "# Create road network graph from point\n",
    "graph, road = get_road_network_from_point(sel_location, distance)\n",
    "\n",
    "# View first 5 road edges\n",
    "road.head(5)\n",
    "\n",
    "# Calculate summary statistics for road network graph\n",
    "road_proj = ox.project_graph(graph)\n",
    "nodes_proj = ox.graph_to_gdfs(road_proj, edges=False)\n",
    "graph_area_m = nodes_proj.unary_union.convex_hull.area\n",
    "\n",
    "# Output summary statistics of road network\n",
    "# To get density-based statistics, you must also pass the network's bounding area in square meters\n",
    "# Information on summary statistics: \n",
    "stats = ox.basic_stats(road_proj, area=graph_area_m, clean_int_tol=15)\n",
    "pd.Series(stats)\n"
   ]
  },
  {
   "cell_type": "code",
   "execution_count": null,
   "id": "7c80c0a8-8ee3-40a8-8e9c-a8c030acae61",
   "metadata": {
    "tags": []
   },
   "outputs": [],
   "source": [
    "# Plot the road map\n",
    "\n",
    "# Reproject the GeoDataFrame to WGS84 (EPSG:4326)\n",
    "road_wgs84 = road.to_crs('EPSG:4326')\n",
    "\n",
    "# Step 1: Create a Folium map object\n",
    "m = folium.Map(location=sel_location, zoom_start=15)\n",
    "\n",
    "# Step 2: Iterate over the GeoDataFrame and add lines to the map\n",
    "for index, row in road_wgs84.iterrows():\n",
    "    line = row['geometry']\n",
    "    coordinates = list(line.coords)\n",
    "    coordinates = [(coord[1], coord[0]) for coord in coordinates]  # Swap lat and lon order\n",
    "    folium.PolyLine(locations=coordinates, color='blue', weight=2).add_to(m)\n",
    "# Step 3: Display the map\n",
    "#m.savefig(f\"C:/Users/talake2/Desktop/tree-geolocation/geolocation-panos-testing-cities-maps/geolocation-pano-testing-{testing_city}.png\")\n",
    "m\n"
   ]
  },
  {
   "cell_type": "markdown",
   "id": "4b49d9db-7f02-4c07-9208-a0fc0d03189e",
   "metadata": {},
   "source": [
    "# Alternatively, create a custom road network"
   ]
  },
  {
   "cell_type": "code",
   "execution_count": null,
   "id": "8c40df10-8e16-42f5-aa15-b277cd4a7bcc",
   "metadata": {},
   "outputs": [],
   "source": [
    "# Create a custom road network with OSMnx\n",
    "# First, create a road graph, and save it as a GeoPackage to file\n",
    "#fp = 'c:/users/talake2/desktop/raleigh_custom_road_network.gpkg'\n",
    "# G = ox.graph_from_place(\"Nashville, TN\", network_type=\"drive\") # alternatively, use ox.graph_from_point\n",
    "#ox.save_graph_geopackage(G, fp)\n",
    "#fix, ax = ox.plot_graph(G)\n",
    "\n"
   ]
  },
  {
   "cell_type": "code",
   "execution_count": null,
   "id": "bba75d95-f404-47a2-aefd-a4ba99574e5a",
   "metadata": {},
   "outputs": [],
   "source": [
    "\n",
    "# Second, edit the graph as needed in QGIS\n",
    "# In QGIS, import the graph .gpkg file to obtain the nodes and edges.\n",
    "# For each layer in the .gpkg (nodes/ edges), select your custom region and delete unnecessary nodes/edges.\n",
    "# Once you are finished editing your features, save and overwrite the original file.\n",
    "# Ensure the index attributes are non-null when you're finished\n",
    "\n",
    "\n",
    "# Third, load your custom edited road network back to OSMnx\n",
    "# load GeoPackage as node/edge GeoDataFrames indexed as described in OSMnx docs\n",
    "#gdf_nodes = gpd.read_file(fp, layer='nodes').set_index('osmid')\n",
    "#gdf_edges = gpd.read_file(fp, layer='edges').set_index(['u', 'v', 'key'])\n",
    "#assert gdf_nodes.index.is_unique and gdf_edges.index.is_unique\n",
    "\n",
    "# Convert the node/edge GeoDataFrames to a MultiDiGraph\n",
    "#graph_attrs = {'crs': 'epsg:4326', 'simplified': True}\n",
    "#G2 = ox.graph_from_gdfs(gdf_nodes, gdf_edges, graph_attrs)\n",
    "# Display your graph\n",
    "#fig, ax = ox.plot_graph(G2)\n"
   ]
  },
  {
   "cell_type": "code",
   "execution_count": null,
   "id": "0362e5e0-06c1-4ceb-9dbc-ecd95d003042",
   "metadata": {},
   "outputs": [],
   "source": []
  },
  {
   "cell_type": "markdown",
   "id": "9f9416dd-0b95-48e7-8851-bb6c4e323127",
   "metadata": {
    "tags": []
   },
   "source": [
    "# Step 2. Select the sample points on the road network\n",
    "\n",
    "The second step of the code generates a list of evenly distributed points along the road network, with a specified distance between each point. This is achieved using a function that takes the road network data and an optional distance parameter N, which is set to a default value of 25 meters.\n",
    "\n",
    "The function iterates over each road in the roads dataframe and creates points at regular intervals of the specified distance (N). By doing so, it ensures that the generated points are evenly spaced along the road network.\n",
    "\n",
    "To maintain a consistent spatial reference, the function sets the Coordinate Reference System (CRS) of the gdf_points dataframe to match the CRS of the roads dataframe. This ensures that the points and the road network are in the same local projected CRS, measured in meters.\n",
    "\n",
    "Furthermore, to avoid duplication and redundancy, the function removes any duplicate points in the gdf_points dataframe based on the geometry column. This ensures that each point in the resulting dataframe is unique and represents a distinct location along the road network."
   ]
  },
  {
   "cell_type": "code",
   "execution_count": null,
   "id": "98fe4c84-8195-4c20-bebc-b6743a7cd596",
   "metadata": {
    "tags": []
   },
   "outputs": [],
   "source": [
    "# Create a set of approx. equally-spaced points along the road network\n",
    "points = select_points_on_road_network(road, 25)\n",
    "\n",
    "# Convert points into latitude/longitude with CRS\n",
    "points_coords = points.to_crs(4326)\n",
    "points_coords.head(5)"
   ]
  },
  {
   "cell_type": "code",
   "execution_count": null,
   "id": "1003352f-e5f4-4414-9123-92057cea8f7e",
   "metadata": {
    "tags": []
   },
   "outputs": [],
   "source": [
    "# Plot the points along the road map\n",
    "\n",
    "# Reproject the GeoDataFrame to WGS84 (EPSG:4326)\n",
    "points_wgs84 = points_coords.to_crs('EPSG:4326')\n",
    "\n",
    "# Step 1: Create a Folium map object\n",
    "m = folium.Map(location=sel_location, zoom_start=15)\n",
    "\n",
    "# Step 2: Iterate over the GeoDataFrame and add points to the map\n",
    "for index, row in points_wgs84.iterrows():\n",
    "    point = row['geometry']\n",
    "    coordinates = (point.y, point.x)  # Swap lat and lon order\n",
    "    folium.CircleMarker(location=coordinates, color='blue', radius=2).add_to(m)\n",
    "\n",
    "# Step 3: Display the map\n",
    "#m.savefig(f\"C:/Users/talake2/Desktop/tree-geolocation/geolocation-panos-testing-cities-maps/geolocation-pano-testing-{testing_city}.png\")\n",
    "m"
   ]
  },
  {
   "cell_type": "markdown",
   "id": "880e4e47-335c-44b6-9228-0b3704b6b303",
   "metadata": {},
   "source": [
    "# Step 3: Query panoramic images near road points\n",
    "\n",
    "\n",
    "The next step in the pipeline focuses on finding the closest images for each point.\n",
    "\n",
    "To calculate the distances between the features and the points, a k-dimensional tree (KDTree) approach is employed using the local projected crs in meters. The KDTree is built using the geometry coordinates of the feature points. By querying the KDTree, the nearest neighbors of the points in the points dataframe are identified. The closest feature and distance information are then assigned to each point accordingly."
   ]
  },
  {
   "cell_type": "code",
   "execution_count": null,
   "id": "10596e74-aa93-4393-90d0-6cc2f2dbfd4e",
   "metadata": {
    "tags": []
   },
   "outputs": [],
   "source": [
    "# Function to remove panoramic images captured within a certain distance\n",
    "def remove_adjacent_panoramics(pano_df, distance):\n",
    "    # Convert latitude and longitude to Cartesian coordinates for distance calculation\n",
    "    coords = np.vstack([pano_df['Panorama_Longitude'], pano_df['Panorama_Latitude']]).T\n",
    "    pano_kd_tree = cKDTree(coords)\n",
    "\n",
    "    # Query the tree to find the nearest neighbor for each point\n",
    "    distances, indices = pano_kd_tree.query(coords, k=2)  # Find the nearest neighbor (k=2 because the nearest point is itself)\n",
    "    distances_meters = distances * 111139  # Convert distances to meters\n",
    "\n",
    "    # Find duplicate points within a set distance (meters)\n",
    "    duplicates = np.where((distances_meters[:, 1] <= distance))[0]\n",
    "\n",
    "    # Create a list to store indices to remove\n",
    "    indices_to_remove = []\n",
    "\n",
    "    # Iterate through the clusters and randomly keep one point while removing the rest\n",
    "    for duplicate in duplicates:\n",
    "        cluster_indices = indices[duplicate]\n",
    "        # Randomly select one index to keep\n",
    "        keep_index = np.random.choice(cluster_indices)\n",
    "        # Remove other indices\n",
    "        remove_indices = np.setdiff1d(cluster_indices, keep_index)\n",
    "        indices_to_remove.extend(remove_indices)\n",
    "\n",
    "    # Drop the indices to remove from the DataFrame\n",
    "    pano_df = pano_df.drop(index=indices_to_remove)\n",
    "\n",
    "    return pano_df"
   ]
  },
  {
   "cell_type": "code",
   "execution_count": null,
   "id": "e6a82bd2-6d88-4561-ae49-9b85a1b23b8a",
   "metadata": {
    "tags": []
   },
   "outputs": [],
   "source": [
    "\n",
    "# Hold point location and available panoramic image location metadata\n",
    "pano_data = []\n",
    "\n",
    "# Iterate over each point in the road network, and get metadata for the nearest panoramic images\n",
    "for i in tqdm(range(len(points_coords.geometry))):\n",
    "\n",
    "    # Search for all available panoramic images closest to each point\n",
    "    panos = search_panoramas(lat=points_coords.geometry.y[i], lon=points_coords.geometry.x[i])\n",
    "    \n",
    "    # Iterate through the closest set of panos for a given location\n",
    "    # For each pano image, get the metadata by supplying the unique pano_id string\n",
    "    for pano in panos:\n",
    "        \n",
    "        meta = get_panorama_meta(pano_id=pano.pano_id, api_key=GOOGLE_MAPS_API_KEY)\n",
    "        \n",
    "        if meta.date:\n",
    "            date_code = datetime.strptime(meta.date, '%Y-%m')\n",
    "            \n",
    "            # Append data on point and panoramic image location\n",
    "            pano_data.append({'Point_Index': i,\n",
    "                'Point_Latitude': points_coords.geometry.y[i],\n",
    "                'Point_Longitude': points_coords.geometry.x[i],\n",
    "                'Panorama_ID': pano.pano_id,\n",
    "                'Panorama_Date': meta.date,\n",
    "                'Panorama_Latitude': pano.lat,\n",
    "                'Panorama_Longitude': pano.lon,\n",
    "                'Panorama_Rotation': pano.heading})\n",
    "\n",
    "\n",
    "# All available panoramic images sampled from road points\n",
    "pano_df = pd.DataFrame(pano_data)\n",
    "\n",
    "# Remove duplicate images based on 'Panorama_ID'\n",
    "pano_df.drop_duplicates(subset='Panorama_ID', keep='first', inplace=True)\n",
    "\n",
    "print(f'Total Available Panoramic Images:', len(pano_df))\n",
    "\n",
    "# Remove images where 'Panorama_Date' is after 2016-01\n",
    "pano_df = pano_df[pano_df['Panorama_Date'] >= '2016-01']\n",
    "pano_df.reset_index(drop=True, inplace=True)\n",
    "print(f'Total Panoramic Images After 2016:', len(pano_df))\n",
    "\n",
    "# Remove any panoraamic images closer than 5 meters\n",
    "pano_df_simple = remove_adjacent_panoramics(pano_df, 5)\n",
    "pano_df_simple.reset_index(drop=True, inplace=True)\n",
    "\n",
    "print(f'Total Panoramic Images After De-Duplication:', len(pano_df_simple))\n"
   ]
  },
  {
   "cell_type": "markdown",
   "id": "fde9c1b2-cd7c-4683-9af0-f1d2e93ccd35",
   "metadata": {},
   "source": [
    "# Step 4: Visualize Panoramic Image Locations Before Download"
   ]
  },
  {
   "cell_type": "code",
   "execution_count": null,
   "id": "f8c8b37d-a4a9-4869-8e24-694d99c5fff9",
   "metadata": {
    "tags": []
   },
   "outputs": [],
   "source": [
    "# Plot Pano Locations and Street Sampling Points\n",
    "\n",
    "from eomaps import Maps\n",
    "import matplotlib.pyplot as plt\n",
    "import cartopy.crs as ccrs\n",
    "from cartopy.io import img_tiles\n",
    "from shapely.geometry import Point, LineString\n",
    "%matplotlib inline\n",
    "\n",
    "\n",
    "# Define the bounding box for the plotting area\n",
    "bbox = [\n",
    "    pano_df['Point_Longitude'].min() - 0.0005,\n",
    "    pano_df['Point_Longitude'].max() + 0.0005,\n",
    "    pano_df['Point_Latitude'].min() - 0.0005,\n",
    "    pano_df['Point_Latitude'].max() + 0.0005\n",
    "]\n",
    "\n",
    "# Convert panoramic image data to a Geodataframe\n",
    "pano_geometry = [Point(xy) for xy in zip(pano_df['Panorama_Longitude'], pano_df['Panorama_Latitude'])]\n",
    "pano_locations_gdf = gpd.GeoDataFrame(pano_df, geometry=pano_geometry, crs=\"EPSG:4326\")\n",
    "\n",
    "# Convert panoramic image data to a Geodataframe\n",
    "sel_pano_geometry = [Point(xy) for xy in zip(pano_df_simple['Panorama_Longitude'], pano_df_simple['Panorama_Latitude'])]\n",
    "sel_pano_locations_gdf = gpd.GeoDataFrame(pano_df_simple, geometry=sel_pano_geometry, crs=\"EPSG:4326\")\n",
    "\n",
    "\n",
    "# Plotting:\n",
    "# Define a map and extent\n",
    "m = Maps(crs=Maps.CRS.Mercator.GOOGLE, figsize=(20, 20))\n",
    "m.set_extent((bbox[0], bbox[1], bbox[2], bbox[3]))\n",
    "\n",
    "# Plot the GeoDataFrame onto the map\n",
    "m.add_gdf(pano_locations_gdf, marker='x', color='blue', alpha=0.80, markersize = 250, label='Available Panoramic Images')\n",
    "m.add_gdf(sel_pano_locations_gdf, marker='+', color='white', alpha=0.80, markersize = 250, label='Filtered Panoramic Images')\n",
    "m.add_gdf(points_coords, marker='o', color='red', alpha=0.80, markersize = 250, label='Street Points')\n",
    "\n",
    "m.add_wms.ESRI_ArcGIS.SERVICES.World_Imagery.add_layer.xyz_layer()\n",
    "\n",
    "# Show the map\n",
    "#m.savefig(f\"C:/Users/talake2/Desktop/tree-geolocation/geolocation-panos-testing-cities-maps/geolocation-pano-testing-{testing_city}.png\")\n",
    "m.show();\n"
   ]
  },
  {
   "cell_type": "markdown",
   "id": "0cc67d91-7f07-4a12-9bca-23db5fa1c166",
   "metadata": {},
   "source": [
    "# Download Panoramic Images"
   ]
  },
  {
   "cell_type": "code",
   "execution_count": null,
   "id": "1568eb0a-a053-4d24-829c-72d08df3ed2e",
   "metadata": {
    "tags": []
   },
   "outputs": [],
   "source": [
    "# Loop over panoramic images sampled in the pano_df\n",
    "for i in tqdm(range(len(pano_df_simple))):\n",
    "\n",
    "    # Get panoramic image unique ID\n",
    "    panoID = pano_df_simple['Panorama_ID'][i]\n",
    "    \n",
    "    # Define the file path for the image\n",
    "    #image_path = fr'C:/Users/talake2/Desktop/tree-geolocation/geolocation-pano-testing-cities/geolocation-pano-testing-columbus-downloader/{panoID}.jpg'\n",
    "    image_path = fr'C:/Users/talake2/Desktop/pano_download_testing/{panoID}.jpg'\n",
    "    \n",
    "    # Check if image already exists. If it does, skip that image.\n",
    "    if os.path.exists(image_path):\n",
    "        print(f\"Image {panoID} already exists. Skipping...\")\n",
    "        continue\n",
    "    \n",
    "    try:\n",
    "        print(\"Downloading Panoramic Image and Metadata:\")\n",
    "        \n",
    "        # Create the matching panoramic image metadata .json file\n",
    "        metadata = {\n",
    "            'panoId': panoID,\n",
    "            'panoDate:': pano_df_simple['Panorama_Date'][i],\n",
    "            'lat': pano_df_simple['Panorama_Latitude'][i],\n",
    "            'lng': pano_df_simple['Panorama_Longitude'][i],\n",
    "            'rotation': pano_df_simple['Panorama_Rotation'][i]\n",
    "            }\n",
    "        \n",
    "        # Write metadata to JSON file\n",
    "        with open(fr'C:/Users/talake2/Desktop/tree-geolocation/geolocation-pano-testing-cities/geolocation-pano-testing-columbus-downloader/{panoID}.metadata.json', 'w') as f:\n",
    "            json.dump(metadata, f)\n",
    "            \n",
    "        # Attempt to download single panoramic image\n",
    "        image = get_panorama(pano_id=panoID)\n",
    "\n",
    "        # Save the image\n",
    "        image.save(image_path, \"jpeg\")\n",
    "            \n",
    "        print(f\"Saved Panoramic Image and Metadata: \", panoID)\n",
    "    except UnidentifiedImageError as e:\n",
    "        print(f\"Error downloading image {panoID}: {e}\")\n",
    "        # Optionally, you can add a delay before retrying\n",
    "        time.sleep(2)  # Wait for 2 seconds before retrying\n",
    "        continue  # Skip to the next iteration of the loop"
   ]
  },
  {
   "cell_type": "code",
   "execution_count": null,
   "id": "c8f09782-ddfc-4ba5-a57f-ce51559d7215",
   "metadata": {},
   "outputs": [],
   "source": []
  },
  {
   "cell_type": "markdown",
   "id": "3548a70f-5b64-45c7-9c51-89a65f8d188a",
   "metadata": {},
   "source": [
    "# Download Panoramic Images in Parallel with ThreadPoolExecutor"
   ]
  },
  {
   "cell_type": "code",
   "execution_count": null,
   "id": "11dc78b0-0e72-4fa2-92f6-297e1ce20263",
   "metadata": {
    "tags": []
   },
   "outputs": [],
   "source": [
    "import os\n",
    "import json\n",
    "import time\n",
    "from concurrent.futures import ThreadPoolExecutor\n",
    "from PIL import UnidentifiedImageError\n",
    "from tqdm import tqdm\n",
    "\n",
    "# Function to download a single panoramic image\n",
    "def download_panorama(pano_info):\n",
    "    start_time = time.time()\n",
    "    panoID, pano_date, lat, lng, rotation = pano_info\n",
    "    image_path = fr'C:/Users/talake2/Desktop/pano_download_testing/{panoID}.jpg'\n",
    "\n",
    "    if os.path.exists(image_path):\n",
    "        print(f\"Image {panoID} already exists. Skipping...\")\n",
    "        return None\n",
    "\n",
    "    try:\n",
    "        print(f\"Downloading Panoramic Image and Metadata: {panoID}\")\n",
    "        metadata = {\n",
    "            'panoId': panoID,\n",
    "            'panoDate': pano_date,\n",
    "            'lat': lat,\n",
    "            'lng': lng,\n",
    "            'rotation': rotation\n",
    "        }\n",
    "        with open(fr'C:/Users/talake2/Desktop/pano_download_testing/{panoID}.metadata.json', 'w') as f:\n",
    "            json.dump(metadata, f)\n",
    "\n",
    "        image = get_panorama(pano_id=panoID)\n",
    "        image.save(image_path, \"jpeg\")\n",
    "        \n",
    "        end_time = time.time()\n",
    "        duration = end_time - start_time\n",
    "\n",
    "        print(f\"Saved Panoramic Image and Metadata: {panoID}. Time taken: {duration:.2f} seconds\")\n",
    "    except UnidentifiedImageError as e:\n",
    "        print(f\"Error downloading image {panoID}: {e}\")\n",
    "        time.sleep(2)  # Wait for 2 seconds before retrying\n",
    "\n",
    "# Number of threads to run in parallel\n",
    "num_threads = os.cpu_count() - 1  # Use the number of available CPU cores\n",
    "\n",
    "# Prepare the arguments for the parallel execution\n",
    "pano_info_list = [(pano_df_simple['Panorama_ID'][i],\n",
    "                   pano_df_simple['Panorama_Date'][i],\n",
    "                   pano_df_simple['Panorama_Latitude'][i],\n",
    "                   pano_df_simple['Panorama_Longitude'][i],\n",
    "                   pano_df_simple['Panorama_Rotation'][i]) for i in range(len(pano_df_simple))]\n",
    "\n",
    "# Create a ThreadPoolExecutor with the desired number of threads\n",
    "with ThreadPoolExecutor(max_workers=num_threads) as executor:\n",
    "    # Submit tasks for each panoramic image download\n",
    "    futures = [executor.submit(download_panorama, pano_info) for pano_info in pano_info_list]\n",
    "\n",
    "    # Track the progress of the parallel downloads using tqdm\n",
    "    for future in tqdm(futures, total=len(pano_info_list)):\n",
    "        try:\n",
    "            future.result()  # Wait for the task to complete\n",
    "        except Exception as e:\n",
    "            print(f\"Error downloading panorama: {e}\")"
   ]
  },
  {
   "cell_type": "code",
   "execution_count": null,
   "id": "dd77ebeb-ff7e-4bf8-b047-1b06b48eb721",
   "metadata": {
    "tags": []
   },
   "outputs": [],
   "source": [
    "# EOF"
   ]
  }
 ],
 "metadata": {
  "kernelspec": {
   "display_name": "Python OSMnx",
   "language": "python",
   "name": "ox"
  },
  "language_info": {
   "codemirror_mode": {
    "name": "ipython",
    "version": 3
   },
   "file_extension": ".py",
   "mimetype": "text/x-python",
   "name": "python",
   "nbconvert_exporter": "python",
   "pygments_lexer": "ipython3",
   "version": "3.12.2"
  }
 },
 "nbformat": 4,
 "nbformat_minor": 5
}
